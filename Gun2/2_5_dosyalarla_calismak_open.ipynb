{
 "cells": [
  {
   "cell_type": "markdown",
   "id": "d2638194-95bd-475a-adb6-4f719d830faa",
   "metadata": {},
   "source": [
    "### Dosyalarla Çalışmak\n",
    "\n",
    "- öncelikle `open` ile dosyaları açmak gerekir. Sonra `close` ile kapatmak gerekir.\n",
    "- dosya veya veritabanı okurken imlec (cursor) nesnesi oluşur."
   ]
  },
  {
   "cell_type": "markdown",
   "id": "2378014f-8b50-424f-8817-dc6de35e1084",
   "metadata": {},
   "source": [
    "### Dosya ve Klasörler ilgili bazı notlar."
   ]
  },
  {
   "cell_type": "code",
   "execution_count": 1,
   "id": "3a2b9b8f-f307-4da8-b57d-8d39bfb66c4a",
   "metadata": {},
   "outputs": [
    {
     "data": {
      "text/plain": [
       "['DirEntry',\n",
       " 'F_OK',\n",
       " 'GenericAlias',\n",
       " 'Mapping',\n",
       " 'MutableMapping',\n",
       " 'O_APPEND',\n",
       " 'O_BINARY',\n",
       " 'O_CREAT',\n",
       " 'O_EXCL',\n",
       " 'O_NOINHERIT',\n",
       " 'O_RANDOM',\n",
       " 'O_RDONLY',\n",
       " 'O_RDWR',\n",
       " 'O_SEQUENTIAL',\n",
       " 'O_SHORT_LIVED',\n",
       " 'O_TEMPORARY',\n",
       " 'O_TEXT',\n",
       " 'O_TRUNC',\n",
       " 'O_WRONLY',\n",
       " 'P_DETACH',\n",
       " 'P_NOWAIT',\n",
       " 'P_NOWAITO',\n",
       " 'P_OVERLAY',\n",
       " 'P_WAIT',\n",
       " 'PathLike',\n",
       " 'R_OK',\n",
       " 'SEEK_CUR',\n",
       " 'SEEK_END',\n",
       " 'SEEK_SET',\n",
       " 'TMP_MAX',\n",
       " 'W_OK',\n",
       " 'X_OK',\n",
       " '_AddedDllDirectory',\n",
       " '_Environ',\n",
       " '__all__',\n",
       " '__builtins__',\n",
       " '__cached__',\n",
       " '__doc__',\n",
       " '__file__',\n",
       " '__loader__',\n",
       " '__name__',\n",
       " '__package__',\n",
       " '__spec__',\n",
       " '_check_methods',\n",
       " '_execvpe',\n",
       " '_exists',\n",
       " '_exit',\n",
       " '_fspath',\n",
       " '_get_exports_list',\n",
       " '_walk',\n",
       " '_wrap_close',\n",
       " 'abc',\n",
       " 'abort',\n",
       " 'access',\n",
       " 'add_dll_directory',\n",
       " 'altsep',\n",
       " 'chdir',\n",
       " 'chmod',\n",
       " 'close',\n",
       " 'closerange',\n",
       " 'cpu_count',\n",
       " 'curdir',\n",
       " 'defpath',\n",
       " 'device_encoding',\n",
       " 'devnull',\n",
       " 'dup',\n",
       " 'dup2',\n",
       " 'environ',\n",
       " 'error',\n",
       " 'execl',\n",
       " 'execle',\n",
       " 'execlp',\n",
       " 'execlpe',\n",
       " 'execv',\n",
       " 'execve',\n",
       " 'execvp',\n",
       " 'execvpe',\n",
       " 'extsep',\n",
       " 'fdopen',\n",
       " 'fsdecode',\n",
       " 'fsencode',\n",
       " 'fspath',\n",
       " 'fstat',\n",
       " 'fsync',\n",
       " 'ftruncate',\n",
       " 'get_exec_path',\n",
       " 'get_handle_inheritable',\n",
       " 'get_inheritable',\n",
       " 'get_terminal_size',\n",
       " 'getcwd',\n",
       " 'getcwdb',\n",
       " 'getenv',\n",
       " 'getlogin',\n",
       " 'getpid',\n",
       " 'getppid',\n",
       " 'isatty',\n",
       " 'kill',\n",
       " 'linesep',\n",
       " 'link',\n",
       " 'listdir',\n",
       " 'lseek',\n",
       " 'lstat',\n",
       " 'makedirs',\n",
       " 'mkdir',\n",
       " 'name',\n",
       " 'open',\n",
       " 'pardir',\n",
       " 'path',\n",
       " 'pathsep',\n",
       " 'pipe',\n",
       " 'popen',\n",
       " 'putenv',\n",
       " 'read',\n",
       " 'readlink',\n",
       " 'remove',\n",
       " 'removedirs',\n",
       " 'rename',\n",
       " 'renames',\n",
       " 'replace',\n",
       " 'rmdir',\n",
       " 'scandir',\n",
       " 'sep',\n",
       " 'set_handle_inheritable',\n",
       " 'set_inheritable',\n",
       " 'spawnl',\n",
       " 'spawnle',\n",
       " 'spawnv',\n",
       " 'spawnve',\n",
       " 'st',\n",
       " 'startfile',\n",
       " 'stat',\n",
       " 'stat_result',\n",
       " 'statvfs_result',\n",
       " 'strerror',\n",
       " 'supports_bytes_environ',\n",
       " 'supports_dir_fd',\n",
       " 'supports_effective_ids',\n",
       " 'supports_fd',\n",
       " 'supports_follow_symlinks',\n",
       " 'symlink',\n",
       " 'sys',\n",
       " 'system',\n",
       " 'terminal_size',\n",
       " 'times',\n",
       " 'times_result',\n",
       " 'truncate',\n",
       " 'umask',\n",
       " 'uname_result',\n",
       " 'unlink',\n",
       " 'unsetenv',\n",
       " 'urandom',\n",
       " 'utime',\n",
       " 'waitpid',\n",
       " 'waitstatus_to_exitcode',\n",
       " 'walk',\n",
       " 'write']"
      ]
     },
     "execution_count": 1,
     "metadata": {},
     "output_type": "execute_result"
    }
   ],
   "source": [
    "import os # işletim sistemi ile ilişkili işleri yapabiliriz.\n",
    "dir(os)"
   ]
  },
  {
   "cell_type": "code",
   "execution_count": 2,
   "id": "efe864a7-a3bf-4595-88e3-9c756c560d0a",
   "metadata": {},
   "outputs": [
    {
     "data": {
      "text/plain": [
       "'C:\\\\WorkData\\\\GitRespostory\\\\python-learn-v2\\\\Gun2'"
      ]
     },
     "execution_count": 2,
     "metadata": {},
     "output_type": "execute_result"
    }
   ],
   "source": [
    "os.getcwd() # aktif çalışma yolunu verir."
   ]
  },
  {
   "cell_type": "markdown",
   "id": "7787346c-8e91-4741-9960-f7b31c2826aa",
   "metadata": {},
   "source": [
    "#### Dosya yolu verme hakkında bilgiler\n",
    "* Yollar:\n",
    "  * linux -> `/`\n",
    "  * windows -> `\\\\` veya '/' kullanabiliriz.\n",
    "    * raw string üretmemiz gerekebilir r\"C:\\nalbur\" veya repr(\"C:\\nalbur\")\n",
    "* apsolute path: `C:\\\\klasör\\dosya.uzn` şeklinde kök dizinden itibaren açık adres verilir.\n",
    "* relative path: `./klasor/dosya.uzn` şeklinde çalışma yolu baz alınarak adres verilebilir\n",
    "  * `.` mevcut çalışma yolunu ifade eder.\n",
    "  * `..` bir üst klasörü temsil eder."
   ]
  },
  {
   "cell_type": "code",
   "execution_count": 3,
   "id": "745fc971-5cd7-488a-9a07-140857c22885",
   "metadata": {},
   "outputs": [
    {
     "data": {
      "text/plain": [
       "False"
      ]
     },
     "execution_count": 3,
     "metadata": {},
     "output_type": "execute_result"
    }
   ],
   "source": [
    "# yol var mı?\n",
    "os.path.exists(\"./databases\") # çalışma yolunda databases klasörü var mı?"
   ]
  },
  {
   "cell_type": "code",
   "execution_count": 4,
   "id": "45bd8623-37b5-45db-bb2c-8134e52c8356",
   "metadata": {},
   "outputs": [],
   "source": [
    "os.makedirs(\"./databases\", exist_ok = True) # klasör varsa hata vermeyecek"
   ]
  },
  {
   "cell_type": "code",
   "execution_count": 5,
   "id": "aa07b5ee-ab02-449a-9639-6e6c42aae87b",
   "metadata": {},
   "outputs": [
    {
     "data": {
      "text/plain": [
       "['.ipynb_checkpoints',\n",
       " '2_1_date_datetime_time_timedelta.html',\n",
       " '2_1_date_datetime_time_timedelta.ipynb',\n",
       " '2_2_if_elif_else_for_while_else.ipynb',\n",
       " '2_3_try_except_else_finally.ipynb',\n",
       " '2_4_fonksiyonlar.ipynb',\n",
       " '2_5_dosyalarla_calismak_open.ipynb',\n",
       " 'databases',\n",
       " 'HamdosyalarlaCalismak.png',\n",
       " 'HataYonetimiveHataTurleri.png',\n",
       " 'MSSQLveOracleBaglanti.png',\n",
       " 'old-databases',\n",
       " 'PandasDF.png',\n",
       " 'strftime_Format.png',\n",
       " 'VeritabaniBaglanti.png',\n",
       " 'İmleciHareketEttirmek.png']"
      ]
     },
     "execution_count": 5,
     "metadata": {},
     "output_type": "execute_result"
    }
   ],
   "source": [
    "# belirtilen olddaki kalsörler\n",
    "os.listdir()\n",
    "# !dir"
   ]
  },
  {
   "cell_type": "code",
   "execution_count": 6,
   "id": "48acb17f-90f9-4548-93e0-741b539f2a9f",
   "metadata": {},
   "outputs": [
    {
     "data": {
      "text/plain": [
       "True"
      ]
     },
     "execution_count": 6,
     "metadata": {},
     "output_type": "execute_result"
    }
   ],
   "source": [
    "\"databases\" in os.listdir() # klasör var mı?"
   ]
  },
  {
   "cell_type": "code",
   "execution_count": 7,
   "id": "c3e2f9cd-e2a0-4138-9807-b6b77c9946a7",
   "metadata": {},
   "outputs": [
    {
     "data": {
      "text/plain": [
       "True"
      ]
     },
     "execution_count": 7,
     "metadata": {},
     "output_type": "execute_result"
    }
   ],
   "source": [
    "# dosya mı kalsör mü?\n",
    "os.path.isdir(\"./databases\") # klasör mü?"
   ]
  },
  {
   "cell_type": "code",
   "execution_count": 8,
   "id": "dac14639-7c5f-47eb-8ce4-700640c3e4d6",
   "metadata": {},
   "outputs": [
    {
     "data": {
      "text/plain": [
       "False"
      ]
     },
     "execution_count": 8,
     "metadata": {},
     "output_type": "execute_result"
    }
   ],
   "source": [
    "os.path.isfile(\"./databases\") # dosya mı?"
   ]
  },
  {
   "cell_type": "markdown",
   "id": "f92392c0-781b-428c-8b7f-839e1e78042f",
   "metadata": {},
   "source": [
    "![Ham Dosyalarla Çalışmak](HamdosyalarlaCalismak.png)"
   ]
  },
  {
   "cell_type": "markdown",
   "id": "73194056-77f9-4d12-a5ef-ec704aaf106a",
   "metadata": {},
   "source": [
    "#### dosyaya yazmak"
   ]
  },
  {
   "cell_type": "code",
   "execution_count": 9,
   "id": "898b3cff-8e91-40e4-9f90-e423627b20c8",
   "metadata": {},
   "outputs": [],
   "source": [
    "fhw = open(file=\"./databases/notlarim.txt\", mode=\"w\", encoding=\"utf-8\") # yazmak için açtık w"
   ]
  },
  {
   "cell_type": "code",
   "execution_count": 10,
   "id": "5e1996e5-ece9-4635-b7f7-a07db6302b0d",
   "metadata": {},
   "outputs": [
    {
     "data": {
      "text/plain": [
       "7"
      ]
     },
     "execution_count": 10,
     "metadata": {},
     "output_type": "execute_result"
    }
   ],
   "source": [
    "fhw.write(\"Merhaba\") # yazar ve gereiye kaç karakter yazdığını döner"
   ]
  },
  {
   "cell_type": "code",
   "execution_count": 11,
   "id": "18eb81cc-1465-4b2c-9e90-62cbbe26da25",
   "metadata": {},
   "outputs": [],
   "source": [
    "fhw.writelines(\"\\nDünyalı nasılsın?\") # sadece yazar"
   ]
  },
  {
   "cell_type": "code",
   "execution_count": 12,
   "id": "f2ae4c44-3eca-4248-b15a-e877ebafc6f4",
   "metadata": {},
   "outputs": [],
   "source": [
    "fhw.close() # yazdıklarımız buffer 'dan dosyaya geçecek."
   ]
  },
  {
   "cell_type": "markdown",
   "id": "2f8794be-dcc7-4301-b284-f9810222a9bd",
   "metadata": {},
   "source": [
    "### Dosyadan Okumak"
   ]
  },
  {
   "cell_type": "code",
   "execution_count": 22,
   "id": "5cb0288f-f831-49b7-8da2-4308d46954e2",
   "metadata": {},
   "outputs": [],
   "source": [
    "fhr = open(file=\"./databases/notlarim.txt\", mode=\"r\", encoding=\"UTF-8\") # okumak için açtık\n",
    "# imleç oluşur, satırlar bu imleç içerisindedir."
   ]
  },
  {
   "cell_type": "code",
   "execution_count": 14,
   "id": "03ba5954-c98f-40eb-86a5-9e9692e3a71a",
   "metadata": {},
   "outputs": [
    {
     "name": "stdout",
     "output_type": "stream",
     "text": [
      "Merhaba\n",
      "\n",
      "Dünyalı nasılsın?\n"
     ]
    }
   ],
   "source": [
    "for r in fhr:\n",
    "    print(r)"
   ]
  },
  {
   "cell_type": "code",
   "execution_count": 23,
   "id": "d775ea2b-5c98-475b-bea5-c7394cfebab8",
   "metadata": {},
   "outputs": [
    {
     "data": {
      "text/plain": [
       "['Merhaba\\n', 'Dünyalı nasılsın?']"
      ]
     },
     "execution_count": 23,
     "metadata": {},
     "output_type": "execute_result"
    }
   ],
   "source": [
    "fhr.readlines() # tüm satırları bize liste olarak verir."
   ]
  },
  {
   "cell_type": "code",
   "execution_count": 20,
   "id": "a9fbb838-5d94-463f-ab5f-f83186c66ab2",
   "metadata": {},
   "outputs": [
    {
     "data": {
      "text/plain": [
       "['Merhaba\\n', 'Dünyalı nasılsın?']"
      ]
     },
     "execution_count": 20,
     "metadata": {},
     "output_type": "execute_result"
    }
   ],
   "source": [
    "list(fhr)"
   ]
  },
  {
   "cell_type": "markdown",
   "id": "1ae69058-9cc2-453d-b951-dfd113301d1d",
   "metadata": {},
   "source": [
    "![İmlec](İmleciHareketEttirmek.png)"
   ]
  },
  {
   "cell_type": "code",
   "execution_count": 25,
   "id": "538c61ff-8a58-4e40-a69b-920657dcecab",
   "metadata": {},
   "outputs": [
    {
     "data": {
      "text/plain": [
       "30"
      ]
     },
     "execution_count": 25,
     "metadata": {},
     "output_type": "execute_result"
    }
   ],
   "source": [
    "fhr.tell()"
   ]
  },
  {
   "cell_type": "code",
   "execution_count": 26,
   "id": "3043d3a8-c290-4e72-8a34-92842c16366c",
   "metadata": {},
   "outputs": [
    {
     "data": {
      "text/plain": [
       "0"
      ]
     },
     "execution_count": 26,
     "metadata": {},
     "output_type": "execute_result"
    }
   ],
   "source": [
    "fhr.seek(0) # 0. karaktere sardık"
   ]
  },
  {
   "cell_type": "code",
   "execution_count": 27,
   "id": "08dabea9-a874-46db-b990-bf7d3a8f47a0",
   "metadata": {},
   "outputs": [
    {
     "data": {
      "text/plain": [
       "'Merh'"
      ]
     },
     "execution_count": 27,
     "metadata": {},
     "output_type": "execute_result"
    }
   ],
   "source": [
    "fhr.read(4) # 4 karakter oku"
   ]
  },
  {
   "cell_type": "code",
   "execution_count": 28,
   "id": "aaae43b2-1e1f-442c-ab32-c97ec414fb9f",
   "metadata": {},
   "outputs": [
    {
     "data": {
      "text/plain": [
       "4"
      ]
     },
     "execution_count": 28,
     "metadata": {},
     "output_type": "execute_result"
    }
   ],
   "source": [
    "fhr.tell()"
   ]
  },
  {
   "cell_type": "code",
   "execution_count": 29,
   "id": "2a2932db-2908-4592-bad4-077dc350904e",
   "metadata": {},
   "outputs": [
    {
     "data": {
      "text/plain": [
       "'aba'"
      ]
     },
     "execution_count": 29,
     "metadata": {},
     "output_type": "execute_result"
    }
   ],
   "source": [
    "fhr.read(3)"
   ]
  },
  {
   "cell_type": "code",
   "execution_count": 30,
   "id": "a8fe579e-bf9f-4814-89aa-659bb28e7ae2",
   "metadata": {},
   "outputs": [
    {
     "data": {
      "text/plain": [
       "'\\nDünyalı nasılsın?'"
      ]
     },
     "execution_count": 30,
     "metadata": {},
     "output_type": "execute_result"
    }
   ],
   "source": [
    "fhr.read() # sonuna kadar okur. metin olarak verir."
   ]
  },
  {
   "cell_type": "code",
   "execution_count": 31,
   "id": "71eb3a51-4628-49ab-bc65-7b1caa73a057",
   "metadata": {},
   "outputs": [
    {
     "data": {
      "text/plain": [
       "3"
      ]
     },
     "execution_count": 31,
     "metadata": {},
     "output_type": "execute_result"
    }
   ],
   "source": [
    "fhr.seek(3) # 3. karaktere sar."
   ]
  },
  {
   "cell_type": "code",
   "execution_count": 32,
   "id": "751512ba-3226-42d6-9552-6393953192b0",
   "metadata": {},
   "outputs": [
    {
     "data": {
      "text/plain": [
       "['haba\\n', 'Dünyalı nasılsın?']"
      ]
     },
     "execution_count": 32,
     "metadata": {},
     "output_type": "execute_result"
    }
   ],
   "source": [
    "fhr.readlines() # her bir satırı liste olarak verir."
   ]
  },
  {
   "cell_type": "markdown",
   "id": "8cd80707-24b3-4a39-adc7-dfe753bb5830",
   "metadata": {},
   "source": [
    "### with ile çalışmak"
   ]
  },
  {
   "cell_type": "code",
   "execution_count": 36,
   "id": "28133b53-0ac4-467e-ad9f-bd91d12878d4",
   "metadata": {},
   "outputs": [],
   "source": [
    "# 1. yöntem\n",
    "fw  = open(\"./databases/loglar.txt\", \"a\", encoding=\"utf-8\") # append modda açtık a\n",
    "\n",
    "try:\n",
    "    fw.write(\"test mesajı ...\\n\")\n",
    "finally:\n",
    "    fw.close()"
   ]
  },
  {
   "cell_type": "code",
   "execution_count": 37,
   "id": "c8ec0d50-4034-45f9-9e9d-ce4cbffad467",
   "metadata": {},
   "outputs": [],
   "source": [
    "# 2. yöntem \n",
    "with open(\"./databases/loglar.txt\", \"a\", encoding=\"utf-8\") as fw:\n",
    "    fw.write(\"Test mesajı with ile ...\\n\")"
   ]
  },
  {
   "cell_type": "code",
   "execution_count": 40,
   "id": "1136871c-7b0a-41ca-a339-2103b14e5985",
   "metadata": {},
   "outputs": [],
   "source": [
    "# ör:\n",
    "# COMPUTERNAME, USERNAME, Tarih şeklinde loglama yapalım.\n",
    "\n",
    "from datetime import datetime\n",
    "import os\n",
    "\n",
    "log_text = \"{}, {}, {}\".format(os.getenv(\"COMPUTERNAME\"),\n",
    "                               os.getenv(\"USERNAME\"),\n",
    "                               datetime.now().strftime(\"%Y%m%d_%H%M.%S\")\n",
    "                              )\n",
    "\n",
    "with open(\"./databases/myerrorlog.txt\", mode=\"a\", encoding=\"utf-8\") as fw:\n",
    "    fw.write(log_text + \"\\n\")"
   ]
  },
  {
   "cell_type": "code",
   "execution_count": 42,
   "id": "c16ef902-03ab-46fd-8b95-275113bd1799",
   "metadata": {},
   "outputs": [],
   "source": [
    "# \\ ile bu anlamlı kod parçasını aşağıdaki satırda devam ettiriyoruz\n",
    "with open(\"./databases/myerrorlog.txt\", mode=\"r\", encoding=\"utf-8\") as fs, \\\n",
    "     open(\"./databases/mySUMMARYErrorloh.txt\", mode=\"w\", encoding=\"utf-8\") as fd:\n",
    "    for r in fs.readlines()[::3]: # slicer ile 3 satırda 1 getirecek\n",
    "        c = r.rstrip(\"\\n\").split(\",\")\n",
    "        fd.write(f\"{c[1]} ---> {c[2]}\\n\")"
   ]
  },
  {
   "cell_type": "code",
   "execution_count": null,
   "id": "b35f63cb-004e-4a00-a742-4a24fd551a4a",
   "metadata": {},
   "outputs": [],
   "source": []
  }
 ],
 "metadata": {
  "kernelspec": {
   "display_name": "Python 3 (ipykernel)",
   "language": "python",
   "name": "python3"
  },
  "language_info": {
   "codemirror_mode": {
    "name": "ipython",
    "version": 3
   },
   "file_extension": ".py",
   "mimetype": "text/x-python",
   "name": "python",
   "nbconvert_exporter": "python",
   "pygments_lexer": "ipython3",
   "version": "3.9.5"
  }
 },
 "nbformat": 4,
 "nbformat_minor": 5
}
