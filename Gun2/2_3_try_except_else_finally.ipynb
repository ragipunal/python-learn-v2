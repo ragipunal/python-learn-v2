{
 "cells": [
  {
   "cell_type": "markdown",
   "id": "25f181b5-348e-4bba-9a22-950e6fd772e5",
   "metadata": {},
   "source": [
    "## Hatat türleri ve Hata Yönetimi\n",
    "\n",
    "1. **Mantık Hataları:** mesela hiç çalışmayacak bir if yazmak\n",
    "2. **Syntax hataları:** yazım hatasıdır, kod çalışmadan önce hata mesajını görürsünüz\n",
    "3. **Run-time hataları:** kod normalde çalışır ancak bazı istisnai durumlarda program hata verir ve sonlanır.\n",
    "    * Bu tür hatalarda programın nasıl davranacağını tarif etmemiz gerekir.\n",
    "    * try-except-else-finally ile bu tür hataları yönetebiliriz."
   ]
  },
  {
   "cell_type": "code",
   "execution_count": 1,
   "id": "8a4df49b-64a6-4e8a-acfe-ed4c5844fbe9",
   "metadata": {},
   "outputs": [],
   "source": [
    "# 1. Mantık Hatası\n",
    "if 1>2:\n",
    "    print(\"Bu mesaj hiç gözükmeyecektir\")"
   ]
  },
  {
   "cell_type": "code",
   "execution_count": 2,
   "id": "d1987e39-5738-4582-94d3-f3b65928d582",
   "metadata": {},
   "outputs": [
    {
     "ename": "SyntaxError",
     "evalue": "invalid syntax (315924568.py, line 4)",
     "output_type": "error",
     "traceback": [
      "\u001b[1;36m  Cell \u001b[1;32mIn [2], line 4\u001b[1;36m\u001b[0m\n\u001b[1;33m    if x%2=0: # = atama, == karşılaştırma\u001b[0m\n\u001b[1;37m          ^\u001b[0m\n\u001b[1;31mSyntaxError\u001b[0m\u001b[1;31m:\u001b[0m invalid syntax\n"
     ]
    }
   ],
   "source": [
    "# 2. Syntax Hatası\n",
    "x = 12\n",
    "\n",
    "if x%2=0: # = atama, == karşılaştırma\n",
    "    print(\"Çift sayıdır\")"
   ]
  },
  {
   "cell_type": "code",
   "execution_count": 4,
   "id": "bae0f8a0-34b7-4da8-8237-41f1de14e326",
   "metadata": {},
   "outputs": [
    {
     "name": "stdout",
     "output_type": "stream",
     "text": [
      "0.0\n",
      "Else hata olmadığında çalışır: 0.0\n",
      "Hata olsa da olmasada finally çalışır.\n"
     ]
    }
   ],
   "source": [
    "# 3. Run-Time\n",
    "# farklı hatalarda farklı tepkiler verebilmek için birden fazla except kullanabiliriz.\n",
    "\n",
    "x = 12\n",
    "y = 0\n",
    "\n",
    "sonuc = None\n",
    "\n",
    "try:\n",
    "    sonuc = y/x\n",
    "    \n",
    "    print(sonuc) # buraya kadar geldiyse hata yok demektir.\n",
    "except ZeroDivisionError as exz: # hataya takma isim verdim.\n",
    "    print(\"Sıfıra bölünme hatası ile karşılaşıldı...\")\n",
    "    print(f\"---> Sistem hata mesajı: {exz}\")\n",
    "except:\n",
    "    print(\"Bir hata ile karşılaşıldı. Developer bilgilendirildi.\")\n",
    "else:\n",
    "    # hata olmadığında çalışacak bloktur\n",
    "    print(f\"Else hata olmadığında çalışır: {sonuc}\")\n",
    "finally:\n",
    "    # hata olsada olmasada çalışır. Kaynakları serbest bırakmak, bağlantıları kapatmak için kullanırız.\n",
    "    print(\"Hata olsa da olmasada finally çalışır.\")"
   ]
  },
  {
   "cell_type": "code",
   "execution_count": null,
   "id": "250587aa-144d-4c61-9560-91168e49b76e",
   "metadata": {},
   "outputs": [],
   "source": []
  }
 ],
 "metadata": {
  "kernelspec": {
   "display_name": "Python 3 (ipykernel)",
   "language": "python",
   "name": "python3"
  },
  "language_info": {
   "codemirror_mode": {
    "name": "ipython",
    "version": 3
   },
   "file_extension": ".py",
   "mimetype": "text/x-python",
   "name": "python",
   "nbconvert_exporter": "python",
   "pygments_lexer": "ipython3",
   "version": "3.9.5"
  }
 },
 "nbformat": 4,
 "nbformat_minor": 5
}
