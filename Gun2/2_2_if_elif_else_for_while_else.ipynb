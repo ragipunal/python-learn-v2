{
 "cells": [
  {
   "cell_type": "markdown",
   "id": "f798ffbb-fb76-42e1-8ea7-a0be495ebea1",
   "metadata": {},
   "source": [
    "## Karar Yapıları\n",
    "\n",
    "- if\n",
    "- if else\n",
    "- if elif elif ... else\n",
    "- ternary (tek satırda if yazamak için kullanılır)\n",
    "\n",
    "```python\n",
    "if şart:\n",
    "    # şart True dönerse if blogunadaki kodlar çalışır.\n",
    "    # if gövdesi tab ile belirtiliyor.\n",
    "    pass # kodlar için yer tutucudur. \n",
    "```"
   ]
  },
  {
   "cell_type": "markdown",
   "id": "247f4f52-c698-45bc-bcab-d63eac198f5a",
   "metadata": {},
   "source": [
    "### if-elif-elif-else"
   ]
  },
  {
   "cell_type": "code",
   "execution_count": 3,
   "id": "fff337db-12da-4fe2-ad4d-eca5420d58c0",
   "metadata": {},
   "outputs": [
    {
     "name": "stdout",
     "output_type": "stream",
     "text": [
      "Kalansız bölünür\n"
     ]
    }
   ],
   "source": [
    "x = 3\n",
    "if x % 2 ==0 or x % 3 == 0:\n",
    "    print(\"Kalansız bölünür\")\n",
    "else:\n",
    "    print(\"iki şartta uymuyor\")"
   ]
  },
  {
   "cell_type": "code",
   "execution_count": 4,
   "id": "ad8250cd-3149-41a2-a1b9-453a8b81773a",
   "metadata": {},
   "outputs": [
    {
     "name": "stdout",
     "output_type": "stream",
     "text": [
      "--> 1. if çalıştı\n",
      "sayı 2'ye bölünür\n",
      "--> 2. if çalıştı\n",
      "sayı 3 e bölünür\n",
      "programın sonu\n"
     ]
    }
   ],
   "source": [
    "# if blokları bağımsızdır. arka arkaya yazıldığında tüm şartlar kontrol edilir.\n",
    "\n",
    "x = 12 \n",
    "\n",
    "if x%2==0:\n",
    "    print(\"--> 1. if çalıştı\")\n",
    "    print(\"sayı 2'ye bölünür\")\n",
    "    \n",
    "if x % 3 == 0:\n",
    "    print(\"--> 2. if çalıştı\")\n",
    "    print(\"sayı 3 e bölünür\")\n",
    "    \n",
    "print(\"programın sonu\")"
   ]
  },
  {
   "cell_type": "code",
   "execution_count": 7,
   "id": "3d9f0d73-5383-4251-98e7-3d96954a47e2",
   "metadata": {},
   "outputs": [
    {
     "name": "stdin",
     "output_type": "stream",
     "text": [
      "Notunuzu giriniz:  44\n"
     ]
    },
    {
     "name": "stdout",
     "output_type": "stream",
     "text": [
      "Notunuz: F\n",
      "Programın Sonu\n"
     ]
    }
   ],
   "source": [
    "# if elif elif .... else ile birden fazla şartı belirleyebiliriz.\n",
    "# Şartlardan biri True verdiğinde aşağıdaki şartlar kontrol edilmez.\n",
    "\n",
    "sinav_notu = input(\"Notunuzu giriniz: \")\n",
    "sinav_notu = int(sinav_notu) # tip dönüşümü yaptık\n",
    "\n",
    "harf_notu = \"\"\n",
    "\n",
    "if sinav_notu >= 0 and sinav_notu <= 100:\n",
    "    if sinav_notu >= 85:\n",
    "        harf_notu = \"A\"\n",
    "    elif sinav_notu >= 70:\n",
    "        harf_notu = \"B\"\n",
    "    elif sinav_notu >= 55:\n",
    "        harf_notu = \"C\"\n",
    "    elif sinav_notu >= 45:\n",
    "        harf_notu = \"D\"\n",
    "    else:\n",
    "        harf_notu = \"F\"\n",
    "        \n",
    "    print(f\"Notunuz: {harf_notu}\")\n",
    "else:\n",
    "    print(\"Notunuz 0 ile 100 arasında olmalıdır.\")\n",
    "    \n",
    "print(\"Programın Sonu\")"
   ]
  },
  {
   "cell_type": "markdown",
   "id": "7806d07d-5628-49cd-a616-edac0b62d53d",
   "metadata": {},
   "source": [
    "### ternary yönetimi"
   ]
  },
  {
   "cell_type": "code",
   "execution_count": 11,
   "id": "ba7729d8-ef63-465f-9429-f67aafe9abcc",
   "metadata": {},
   "outputs": [
    {
     "name": "stdout",
     "output_type": "stream",
     "text": [
      "Çift Sayıdır\n"
     ]
    }
   ],
   "source": [
    "x = 12\n",
    "\n",
    "sonuc = \"Çift Sayıdır\" if x % 2 == 0 else \"Tek Sayıdır\"\n",
    "print(sonuc)"
   ]
  },
  {
   "cell_type": "code",
   "execution_count": null,
   "id": "752fcd50-4274-43a8-b331-074754be4dcc",
   "metadata": {},
   "outputs": [],
   "source": []
  }
 ],
 "metadata": {
  "kernelspec": {
   "display_name": "Python 3 (ipykernel)",
   "language": "python",
   "name": "python3"
  },
  "language_info": {
   "codemirror_mode": {
    "name": "ipython",
    "version": 3
   },
   "file_extension": ".py",
   "mimetype": "text/x-python",
   "name": "python",
   "nbconvert_exporter": "python",
   "pygments_lexer": "ipython3",
   "version": "3.10.8"
  }
 },
 "nbformat": 4,
 "nbformat_minor": 5
}
