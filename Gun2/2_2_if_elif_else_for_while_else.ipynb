{
 "cells": [
  {
   "cell_type": "markdown",
   "id": "f798ffbb-fb76-42e1-8ea7-a0be495ebea1",
   "metadata": {},
   "source": [
    "## Karar Yapıları\n",
    "\n",
    "- if\n",
    "- if else\n",
    "- if elif elif ... else\n",
    "- ternary (tek satırda if yazamak için kullanılır)\n",
    "\n",
    "```python\n",
    "if şart:\n",
    "    # şart True dönerse if blogunadaki kodlar çalışır.\n",
    "    # if gövdesi tab ile belirtiliyor.\n",
    "    pass # kodlar için yer tutucudur. \n",
    "```"
   ]
  },
  {
   "cell_type": "markdown",
   "id": "247f4f52-c698-45bc-bcab-d63eac198f5a",
   "metadata": {},
   "source": [
    "### if-elif-elif-else"
   ]
  },
  {
   "cell_type": "code",
   "execution_count": 3,
   "id": "fff337db-12da-4fe2-ad4d-eca5420d58c0",
   "metadata": {},
   "outputs": [
    {
     "name": "stdout",
     "output_type": "stream",
     "text": [
      "Kalansız bölünür\n"
     ]
    }
   ],
   "source": [
    "x = 3\n",
    "if x % 2 ==0 or x % 3 == 0:\n",
    "    print(\"Kalansız bölünür\")\n",
    "else:\n",
    "    print(\"iki şartta uymuyor\")"
   ]
  },
  {
   "cell_type": "code",
   "execution_count": 4,
   "id": "ad8250cd-3149-41a2-a1b9-453a8b81773a",
   "metadata": {},
   "outputs": [
    {
     "name": "stdout",
     "output_type": "stream",
     "text": [
      "--> 1. if çalıştı\n",
      "sayı 2'ye bölünür\n",
      "--> 2. if çalıştı\n",
      "sayı 3 e bölünür\n",
      "programın sonu\n"
     ]
    }
   ],
   "source": [
    "# if blokları bağımsızdır. arka arkaya yazıldığında tüm şartlar kontrol edilir.\n",
    "\n",
    "x = 12 \n",
    "\n",
    "if x%2==0:\n",
    "    print(\"--> 1. if çalıştı\")\n",
    "    print(\"sayı 2'ye bölünür\")\n",
    "    \n",
    "if x % 3 == 0:\n",
    "    print(\"--> 2. if çalıştı\")\n",
    "    print(\"sayı 3 e bölünür\")\n",
    "    \n",
    "print(\"programın sonu\")"
   ]
  },
  {
   "cell_type": "code",
   "execution_count": 7,
   "id": "3d9f0d73-5383-4251-98e7-3d96954a47e2",
   "metadata": {},
   "outputs": [
    {
     "name": "stdin",
     "output_type": "stream",
     "text": [
      "Notunuzu giriniz:  44\n"
     ]
    },
    {
     "name": "stdout",
     "output_type": "stream",
     "text": [
      "Notunuz: F\n",
      "Programın Sonu\n"
     ]
    }
   ],
   "source": [
    "# if elif elif .... else ile birden fazla şartı belirleyebiliriz.\n",
    "# Şartlardan biri True verdiğinde aşağıdaki şartlar kontrol edilmez.\n",
    "\n",
    "sinav_notu = input(\"Notunuzu giriniz: \")\n",
    "sinav_notu = int(sinav_notu) # tip dönüşümü yaptık\n",
    "\n",
    "harf_notu = \"\"\n",
    "\n",
    "if sinav_notu >= 0 and sinav_notu <= 100:\n",
    "    if sinav_notu >= 85:\n",
    "        harf_notu = \"A\"\n",
    "    elif sinav_notu >= 70:\n",
    "        harf_notu = \"B\"\n",
    "    elif sinav_notu >= 55:\n",
    "        harf_notu = \"C\"\n",
    "    elif sinav_notu >= 45:\n",
    "        harf_notu = \"D\"\n",
    "    else:\n",
    "        harf_notu = \"F\"\n",
    "        \n",
    "    print(f\"Notunuz: {harf_notu}\")\n",
    "else:\n",
    "    print(\"Notunuz 0 ile 100 arasında olmalıdır.\")\n",
    "    \n",
    "print(\"Programın Sonu\")"
   ]
  },
  {
   "cell_type": "markdown",
   "id": "7806d07d-5628-49cd-a616-edac0b62d53d",
   "metadata": {},
   "source": [
    "### ternary yönetimi"
   ]
  },
  {
   "cell_type": "code",
   "execution_count": 11,
   "id": "ba7729d8-ef63-465f-9429-f67aafe9abcc",
   "metadata": {},
   "outputs": [
    {
     "name": "stdout",
     "output_type": "stream",
     "text": [
      "Çift Sayıdır\n"
     ]
    }
   ],
   "source": [
    "x = 12\n",
    "\n",
    "sonuc = \"Çift Sayıdır\" if x % 2 == 0 else \"Tek Sayıdır\"\n",
    "print(sonuc)"
   ]
  },
  {
   "cell_type": "markdown",
   "id": "fc8a07a4-c13a-427a-89ae-effa9ef0ce88",
   "metadata": {},
   "source": [
    "### Döngüler\n",
    "\n",
    "- for\n",
    "- while-else\n",
    "\n",
    "**not**: tüm döngülerde **break** ile döngüden çıkılır, **continue** ile o noktadan devam etmez sonraki iterasyona atlanır.\n",
    "\n",
    "### for\n",
    "\n",
    "- iterasyon yapılabilecek nesnelerin (str, list, tuple, range vs.) elemanlarına tek tek ulaşmamızı sağlar."
   ]
  },
  {
   "cell_type": "code",
   "execution_count": 1,
   "id": "3772be68-a5e1-416d-8beb-aec7d8b11146",
   "metadata": {},
   "outputs": [
    {
     "name": "stdout",
     "output_type": "stream",
     "text": [
      "M\n",
      "E\n",
      "R\n",
      "H\n",
      "A\n",
      "B\n",
      "A\n"
     ]
    }
   ],
   "source": [
    "cumle = \"merhaba\" # str container tipidir.\n",
    "\n",
    "for h in cumle:\n",
    "    print(h.upper())"
   ]
  },
  {
   "cell_type": "code",
   "execution_count": 3,
   "id": "b4417bbc-594e-4c06-936c-6ba56dcaea3f",
   "metadata": {},
   "outputs": [
    {
     "name": "stdout",
     "output_type": "stream",
     "text": [
      "Çift sayı adedi: 25\n"
     ]
    }
   ],
   "source": [
    "# ör: 0-50 arasındaki çift sayıların adedini bulalım.\n",
    "# sayilar = [0,1,2,3,4 ....]\n",
    "# range(start, stop, step) parametlerini ister ve o aralıktaki sayıları toplu halde tutar.\n",
    "\n",
    "range(10) # 0-10 arasındaki sayıları tutar. içindekilere ulaşmak için list tipine çeviririz ya da for içinde döneriz.\n",
    "list(range(10)) # tip dönüşümünü yapıyorduk.\n",
    "\n",
    "sayac = 0\n",
    "for s in range(50):\n",
    "    if s % 2 == 0:\n",
    "        sayac += 1 # çift sayı olduğunda sayacı 1 arttırmış olurum.\n",
    "        \n",
    "print(f\"Çift sayı adedi: {sayac}\")"
   ]
  },
  {
   "cell_type": "code",
   "execution_count": 4,
   "id": "815e16d7-e8f9-41c7-aa96-1a1041cecc58",
   "metadata": {},
   "outputs": [
    {
     "name": "stdout",
     "output_type": "stream",
     "text": [
      "30 karesi 900\n",
      "33 karesi 1089\n",
      "36 karesi 1296\n",
      "39 karesi 1521\n"
     ]
    }
   ],
   "source": [
    "# soru:\n",
    "# 30 ile 40 arasında 3'er atlayıp her sayının karesini yazdıralım. \"30 karesi 900\" şeklinde olsun\n",
    "for sayi in range(30,40,3):\n",
    "    print(f\"{sayi} karesi {sayi**2}\")"
   ]
  },
  {
   "cell_type": "code",
   "execution_count": 7,
   "id": "324b1e2b-199d-44e6-bbb1-93ff286bb597",
   "metadata": {},
   "outputs": [
    {
     "name": "stdout",
     "output_type": "stream",
     "text": [
      "6 X 1 = 6\n",
      "6 X 2 = 12\n",
      "6 X 3 = 18\n",
      "6 X 4 = 24\n",
      "6 X 5 = 30\n",
      "6 X 6 = 36\n",
      "6 X 7 = 42\n",
      "6 X 8 = 48\n",
      "6 X 9 = 54\n",
      "6 X 10 = 60\n"
     ]
    }
   ],
   "source": [
    "# örnek: çarpım tablosu\n",
    "kaclar = 6\n",
    "for x in range(1,11):\n",
    "    if x == kaclar:\n",
    "        for y in range(1,11):\n",
    "            print(f\"{x} X {y} = {x*y}\")"
   ]
  },
  {
   "cell_type": "markdown",
   "id": "80c5eb35-c0d6-4296-b76f-dfc95fb90810",
   "metadata": {},
   "source": [
    "### while - else\n",
    "\n",
    "while şart True olduğu sürece çalışır. Şarta uymayan durumla karşılaşıldığında else blogu çalışır."
   ]
  },
  {
   "cell_type": "code",
   "execution_count": 8,
   "id": "fb2b461f-920f-45db-82d3-8aa108b3ccf4",
   "metadata": {},
   "outputs": [
    {
     "name": "stdout",
     "output_type": "stream",
     "text": [
      "1\n",
      "2\n",
      "4\n"
     ]
    }
   ],
   "source": [
    "# ör:\n",
    "\n",
    "sayac = 0\n",
    "\n",
    "while sayac < 10: # 10 dan küçük olduğu sürece çalışsın\n",
    "    sayac += 1\n",
    "    \n",
    "    if sayac == 3:\n",
    "        continue # daha fazla ilerleme sonraki iterasyona geç\n",
    "        \n",
    "    if sayac == 5:\n",
    "        break # döngüden tamamen çıkarız\n",
    "        \n",
    "    print(sayac)\n",
    "else:\n",
    "    print(f\"Şarta uymayan durumla karşılaşıldı. Sayac: {sayac}\")"
   ]
  },
  {
   "cell_type": "code",
   "execution_count": 10,
   "id": "228c5ee4-3b57-4381-b193-2ecc5233ac0b",
   "metadata": {},
   "outputs": [
    {
     "name": "stdout",
     "output_type": "stream",
     "text": [
      "Merhaba Dün\n",
      "4\n"
     ]
    }
   ],
   "source": [
    "# soru:\n",
    "'''\n",
    "    Verilen cümledeki harf olmayan karakterleri temizleyelim.\n",
    "    Kaç adet numerik karakter temizledik yazdıralım.\n",
    "    0 sayısını yazmasın.\n",
    "    \n",
    "    ------\n",
    "    @ işaretine kadar olan kısmı dikkate alalım.\n",
    "'''\n",
    "\n",
    "cumle = 'm0e!r01h-a32b_a dü3n@y31a-!lı'\n",
    "\n",
    "temiz_cumle = \"\"\n",
    "num_sayac = 0\n",
    "\n",
    "for karakter in cumle:\n",
    "    if karakter == \"@\":\n",
    "        break\n",
    "        \n",
    "    if karakter.isnumeric():\n",
    "        if karakter == \"0\":\n",
    "            continue\n",
    "        num_sayac += 1\n",
    "    elif karakter.isalpha() or karakter.isspace():\n",
    "        temiz_cumle += karakter\n",
    "        \n",
    "\n",
    "print(temiz_cumle.title())\n",
    "print(num_sayac)"
   ]
  },
  {
   "cell_type": "code",
   "execution_count": 17,
   "id": "a819f85b-54d5-4c2c-9efd-1bcb1e4022bc",
   "metadata": {},
   "outputs": [
    {
     "data": {
      "text/plain": [
       "['Ali']"
      ]
     },
     "execution_count": 17,
     "metadata": {},
     "output_type": "execute_result"
    }
   ],
   "source": [
    "import random\n",
    "\n",
    "random.randint(1,10) # 1-10 arasında rastgele tam asyı \n",
    "random.random() # 0-1 arasında rastgele bir sayı üretir.\n",
    "random.choices([\"Ali\",\"Veli\",\"Ayşe\"])"
   ]
  },
  {
   "cell_type": "code",
   "execution_count": null,
   "id": "fc653476-d86c-4617-9377-53355458b919",
   "metadata": {},
   "outputs": [],
   "source": []
  }
 ],
 "metadata": {
  "kernelspec": {
   "display_name": "Python 3 (ipykernel)",
   "language": "python",
   "name": "python3"
  },
  "language_info": {
   "codemirror_mode": {
    "name": "ipython",
    "version": 3
   },
   "file_extension": ".py",
   "mimetype": "text/x-python",
   "name": "python",
   "nbconvert_exporter": "python",
   "pygments_lexer": "ipython3",
   "version": "3.9.5"
  }
 },
 "nbformat": 4,
 "nbformat_minor": 5
}
