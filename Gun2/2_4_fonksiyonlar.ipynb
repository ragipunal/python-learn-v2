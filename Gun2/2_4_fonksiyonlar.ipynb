{
 "cells": [
  {
   "cell_type": "markdown",
   "id": "50572896-d254-4641-adfb-b2e6a447837d",
   "metadata": {},
   "source": [
    "## Fonksiyonlar\n",
    "\n",
    "- Bir kod parçasına isim vermektir.\n",
    "- Birden fazla yerde aynı kod parçasını kullanacak isek fonksiyon haline getirmek daha modüler olur.\n",
    "- Fonksiyonlar dışarıdan değer alabilirler (Parametre) ve geriye değer döndürebilirler.\n",
    "- def ile tanımlanır. return ile fonksyiondan çıkılır. Çıkarken değer döndürebiliriz.\n",
    "- fonksyionları çalıştırırken isimlerin yanına () kullanmamız gerekir. diğer türlü nesne olarak ifade ediyoruz demektir. çalışmazlar."
   ]
  },
  {
   "cell_type": "code",
   "execution_count": 1,
   "id": "82894a69-0ca0-43b5-91fe-6277181dd099",
   "metadata": {},
   "outputs": [],
   "source": [
    "# Ör:\n",
    "# C cinsinden sıcaklığı F cinsine çeviren fonk. yazalım.\n",
    "\n",
    "def c2f(c_sicaklik):\n",
    "    f_sicaklik = c_sicaklik*1.8+32\n",
    "    \n",
    "    return f\"{c_sicaklik} C = {f_sicaklik} F\""
   ]
  },
  {
   "cell_type": "code",
   "execution_count": 2,
   "id": "f51700de-df6f-4058-af20-a5b85184f0b5",
   "metadata": {},
   "outputs": [
    {
     "data": {
      "text/plain": [
       "<function __main__.c2f(c_sicaklik)>"
      ]
     },
     "execution_count": 2,
     "metadata": {},
     "output_type": "execute_result"
    }
   ],
   "source": [
    "# kullanalım\n",
    "\n",
    "c2f"
   ]
  },
  {
   "cell_type": "code",
   "execution_count": 3,
   "id": "668674a3-6cf7-4f58-9961-c2b12dc21d06",
   "metadata": {},
   "outputs": [
    {
     "data": {
      "text/plain": [
       "'10 C = 50.0 F'"
      ]
     },
     "execution_count": 3,
     "metadata": {},
     "output_type": "execute_result"
    }
   ],
   "source": [
    "c2f(10) # tanımlanan sırada parametre girilir."
   ]
  },
  {
   "cell_type": "code",
   "execution_count": 4,
   "id": "a6da05f4-0a5a-4ea0-8c86-53d85c20b6e7",
   "metadata": {},
   "outputs": [
    {
     "data": {
      "text/plain": [
       "'10 C = 50.0 F'"
      ]
     },
     "execution_count": 4,
     "metadata": {},
     "output_type": "execute_result"
    }
   ],
   "source": [
    "c2f(c_sicaklik=10)"
   ]
  },
  {
   "cell_type": "code",
   "execution_count": 5,
   "id": "776454f6-6692-4794-87e9-660f5e3415c2",
   "metadata": {},
   "outputs": [],
   "source": [
    "# örnek:\n",
    "# beden kitle indexi üzerinden obezite seviyesini belirleyelim\n",
    "\n",
    "def obezite_seviyem(kilo, boy):\n",
    "    '''\n",
    "        Bu fonksiyon beden kitle indexi üzerinden obezite seviyesini hesaplar\n",
    "        \n",
    "        Parametreler:\n",
    "        ----------------------\n",
    "        kilo : kg cinsinden kilonuz\n",
    "        boy  : m cinsinden boyunuz\n",
    "    '''\n",
    "    \n",
    "    bki = kilo/boy**2\n",
    "    \n",
    "    if bki >= 30:\n",
    "        return \"Obez\"\n",
    "    elif bki >= 25:\n",
    "        return \"Hafif şişman\"\n",
    "    elif bki >= 18.5:\n",
    "        return \"Normal\"\n",
    "    elif bki >= 17:\n",
    "        return \"Hafif düzeyde zayıf\"\n",
    "    elif bki >=16:\n",
    "        return \"Orta düzeyde zayıf\"\n",
    "    else:\n",
    "        return \"Ağır düzeyde zayıf\""
   ]
  },
  {
   "cell_type": "code",
   "execution_count": 6,
   "id": "2e9585a9-4eaf-4ce8-80e9-3cc3495a8398",
   "metadata": {},
   "outputs": [
    {
     "name": "stdout",
     "output_type": "stream",
     "text": [
      "Help on function obezite_seviyem in module __main__:\n",
      "\n",
      "obezite_seviyem(kilo, boy)\n",
      "    Bu fonksiyon beden kitle indexi üzerinden obezite seviyesini hesaplar\n",
      "    \n",
      "    Parametreler:\n",
      "    ----------------------\n",
      "    kilo : kg cinsinden kilonuz\n",
      "    boy  : m cinsinden boyunuz\n",
      "\n"
     ]
    }
   ],
   "source": [
    "help(obezite_seviyem)"
   ]
  },
  {
   "cell_type": "code",
   "execution_count": 7,
   "id": "a9b2e141-8b8c-42cd-b627-a89ec081a907",
   "metadata": {},
   "outputs": [
    {
     "data": {
      "text/plain": [
       "'Hafif şişman'"
      ]
     },
     "execution_count": 7,
     "metadata": {},
     "output_type": "execute_result"
    }
   ],
   "source": [
    "obezite_seviyem(90, 1.75)"
   ]
  },
  {
   "cell_type": "code",
   "execution_count": 8,
   "id": "b13c0aed-651d-47ee-b4f9-0e813647e09c",
   "metadata": {},
   "outputs": [
    {
     "data": {
      "text/plain": [
       "'Ağır düzeyde zayıf'"
      ]
     },
     "execution_count": 8,
     "metadata": {},
     "output_type": "execute_result"
    }
   ],
   "source": [
    "obezite_seviyem(45, 1.80)"
   ]
  },
  {
   "cell_type": "code",
   "execution_count": 9,
   "id": "3e56eac9-62ce-4981-ae75-f1d54e43f008",
   "metadata": {},
   "outputs": [],
   "source": [
    "# soru \n",
    "# bir textin float olup olmadığını True/False olarak veren bir fonksiyon yazalım\n",
    "\n",
    "def is_float(sayi):\n",
    "    try:\n",
    "        sayi = float(sayi)\n",
    "    except:\n",
    "        return False\n",
    "    else:\n",
    "        return True"
   ]
  },
  {
   "cell_type": "code",
   "execution_count": 10,
   "id": "0626b13d-71fb-4cff-bff5-04c8c1c51756",
   "metadata": {},
   "outputs": [
    {
     "data": {
      "text/plain": [
       "True"
      ]
     },
     "execution_count": 10,
     "metadata": {},
     "output_type": "execute_result"
    }
   ],
   "source": [
    "is_float(\"10.2\")"
   ]
  },
  {
   "cell_type": "code",
   "execution_count": 11,
   "id": "6674ee27-3bc2-4c59-82b8-bebe76c3a71e",
   "metadata": {},
   "outputs": [
    {
     "data": {
      "text/plain": [
       "False"
      ]
     },
     "execution_count": 11,
     "metadata": {},
     "output_type": "execute_result"
    }
   ],
   "source": [
    "is_float(\"1.0.2\")"
   ]
  },
  {
   "cell_type": "markdown",
   "id": "b7142a48-ffa9-4185-b811-9c4d9743740e",
   "metadata": {},
   "source": [
    "### Fonksiyon Parametreleri ile ilgili Durumlar\n",
    "\n",
    "- parametreler varsayılan değer alabilir.\n",
    "- parametreler sınırsız değer alabilir.\n",
    "    - `*parametreAdi` şeklinde tanımlandıysa sınırsız sayıda değer alabilir ve bunları tuple olarak tutar\n",
    "    - `**parametreAdi` şeklinde tanımlanırsa sınırsız sayıda key:value şeklinde değer alabilir. içerde dict olarak tutar"
   ]
  },
  {
   "cell_type": "markdown",
   "id": "21ca6577-8b3e-43dd-a412-b8e81c263432",
   "metadata": {},
   "source": [
    "### varsayılan değer"
   ]
  },
  {
   "cell_type": "code",
   "execution_count": 14,
   "id": "1d83ba61-29e5-4f21-9adb-d8bd8dc603b7",
   "metadata": {},
   "outputs": [],
   "source": [
    "# varsatılan değer alan parametre\n",
    "def fnk_varsayilan_deger(p1, p2=\"varsayılan değer\"):\n",
    "    print(\"p1: \", p1)\n",
    "    print(\"p2: \", p2)"
   ]
  },
  {
   "cell_type": "code",
   "execution_count": 15,
   "id": "add55453-8ed8-47c7-a47f-757c7e49b103",
   "metadata": {},
   "outputs": [
    {
     "name": "stdout",
     "output_type": "stream",
     "text": [
      "p1:  Ali\n",
      "p2:  varsayılan değer\n"
     ]
    }
   ],
   "source": [
    "fnk_varsayilan_deger(p1=\"Ali\")"
   ]
  },
  {
   "cell_type": "code",
   "execution_count": 16,
   "id": "00aac975-d580-4e8a-9920-d17e717c04e1",
   "metadata": {},
   "outputs": [
    {
     "name": "stdout",
     "output_type": "stream",
     "text": [
      "p1:  Ali\n",
      "p2:  Veli\n"
     ]
    }
   ],
   "source": [
    "fnk_varsayilan_deger(\"Ali\", \"Veli\")"
   ]
  },
  {
   "cell_type": "markdown",
   "id": "9b650a0e-c30b-4d15-a4b7-580bac2be93f",
   "metadata": {},
   "source": [
    "### sınırsız değer"
   ]
  },
  {
   "cell_type": "code",
   "execution_count": 17,
   "id": "7885540a-8c82-462d-9774-d33fe9ba6e2b",
   "metadata": {},
   "outputs": [],
   "source": [
    "def fnk_sinirsiz_degerler(*sinirsiz_value, **sinirsiz_key_value):\n",
    "    print(sinirsiz_value)\n",
    "    print(sinirsiz_key_value)"
   ]
  },
  {
   "cell_type": "code",
   "execution_count": 18,
   "id": "3f83cc30-848b-45e4-8294-c3047e45ec29",
   "metadata": {},
   "outputs": [
    {
     "name": "stdout",
     "output_type": "stream",
     "text": [
      "(1, 2, 3, 'Ali', 'Veli')\n",
      "{}\n"
     ]
    }
   ],
   "source": [
    "fnk_sinirsiz_degerler(1,2,3,\"Ali\",\"Veli\")"
   ]
  },
  {
   "cell_type": "code",
   "execution_count": 19,
   "id": "13d6b85c-6bab-4921-8dad-2ae4d7a06113",
   "metadata": {},
   "outputs": [
    {
     "name": "stdout",
     "output_type": "stream",
     "text": [
      "(1, 2, 3)\n",
      "{'ad': 'Ali', 'soyad': 'Veli'}\n"
     ]
    }
   ],
   "source": [
    "fnk_sinirsiz_degerler(1,2,3,ad=\"Ali\",soyad=\"Veli\")"
   ]
  },
  {
   "cell_type": "code",
   "execution_count": 20,
   "id": "c7543edf-e325-4f85-881f-2fd4be1e12c2",
   "metadata": {},
   "outputs": [],
   "source": [
    "# soru\n",
    "# girilen sayılardan 4'e tam bölününlerin adedini , toplamını ve kendilerini getirelim.\n",
    "\n",
    "'''\n",
    "lst = [1,2,3]\n",
    "lst.append(4) # listeye eleman eklemenk için append kullanılır\n",
    "lst\n",
    "'''\n",
    "\n",
    "# container için kullanılan fonksiyonlar\n",
    "'''\n",
    "len(lst)\n",
    "sum(lst)\n",
    "min(lst)\n",
    "max(lst)\n",
    "'''\n",
    "\n",
    "def fnk_ozel_hesap_tuple(*sayilar):\n",
    "    lst = []\n",
    "    for s in set(sayilar): # set ile benzersiz sayilar üzerinden çalışabildik\n",
    "        if s % 4 == 0:\n",
    "            lst.append(s)\n",
    "            \n",
    "    return len(lst), sum(lst), lst\n",
    "\n",
    "def fnk_ozel_hesap_dict(*sayilar):\n",
    "    lst = []\n",
    "    for s in set(sayilar): # set ile benzersiz sayilar üzerinden çalışabildik\n",
    "        if s % 4 == 0:\n",
    "            lst.append(s)\n",
    "            \n",
    "    return {\n",
    "            \"adet\": len(lst),\n",
    "            \"toplam\": sum(lst),\n",
    "            \"liste\": lst\n",
    "            }"
   ]
  },
  {
   "cell_type": "code",
   "execution_count": 21,
   "id": "f1b2eb49-1af6-4f9c-9e83-2d4b364c2597",
   "metadata": {},
   "outputs": [
    {
     "data": {
      "text/plain": [
       "(2, 324, [12, 312])"
      ]
     },
     "execution_count": 21,
     "metadata": {},
     "output_type": "execute_result"
    }
   ],
   "source": [
    "fnk_ozel_hesap_tuple(1,2,3,2,1,321,3,12,3,12,312)"
   ]
  },
  {
   "cell_type": "code",
   "execution_count": 22,
   "id": "db2f3b71-cb5a-421e-8616-28482f890430",
   "metadata": {},
   "outputs": [
    {
     "data": {
      "text/plain": [
       "{'adet': 2, 'toplam': 324, 'liste': [12, 312]}"
      ]
     },
     "execution_count": 22,
     "metadata": {},
     "output_type": "execute_result"
    }
   ],
   "source": [
    "fnk_ozel_hesap_dict(1,2,3,2,1,321,3,12,3,12,312)"
   ]
  },
  {
   "cell_type": "markdown",
   "id": "37c1633b-0e30-4449-9c82-b10b684391be",
   "metadata": {},
   "source": [
    "### Anonymous Functions (lambda)\n",
    "\n",
    "- tek satırda kolayca isimsiz ve gövdesiz fonk. yazmak için kullanılır."
   ]
  },
  {
   "cell_type": "code",
   "execution_count": 23,
   "id": "42356615-213d-44d8-88f9-0d4ca04da94b",
   "metadata": {},
   "outputs": [
    {
     "data": {
      "text/plain": [
       "50.0"
      ]
     },
     "execution_count": 23,
     "metadata": {},
     "output_type": "execute_result"
    }
   ],
   "source": [
    "# klasik yöntem\n",
    "\n",
    "def c2f(c):\n",
    "    return 1.8*c+32\n",
    "\n",
    "# lamda \n",
    "'''\n",
    "    lambda -> zorunludur\n",
    "    parametreler : return edilecekler\n",
    "'''\n",
    "\n",
    "c2f = lambda c:1.8*c+32 # lambdayı genelde biz fonksiyon isteyen yerlerde kullanılır isim vermek istersek değişkene atayabiliriz.\n",
    "\n",
    "c2f(10)"
   ]
  },
  {
   "cell_type": "code",
   "execution_count": 24,
   "id": "8c46e339-476d-42c5-9869-87874cf8d4d7",
   "metadata": {},
   "outputs": [
    {
     "data": {
      "text/plain": [
       "['Ali', 'Veli', 'Ayşe']"
      ]
     },
     "execution_count": 24,
     "metadata": {},
     "output_type": "execute_result"
    }
   ],
   "source": [
    "# ör:\n",
    "\n",
    "lst_personel = [\"ali\", \"veli\", \"ayşe\"]\n",
    "\n",
    "# bu isimleri baş harfleri büyük olacak şekilde yazdıralım\n",
    "\n",
    "lst_basharfi_buyuk = []\n",
    "\n",
    "for p in lst_personel:\n",
    "    lst_basharfi_buyuk.append(p.capitalize())\n",
    "\n",
    "lst_basharfi_buyuk"
   ]
  },
  {
   "cell_type": "code",
   "execution_count": 25,
   "id": "a5496850-bd3e-43b0-bbdf-e28364f2610c",
   "metadata": {},
   "outputs": [
    {
     "data": {
      "text/plain": [
       "['Ali', 'Veli', 'Ayşe']"
      ]
     },
     "execution_count": 25,
     "metadata": {},
     "output_type": "execute_result"
    }
   ],
   "source": [
    "# map gömülü fonksiyonlardandır. bir container elamanlarına berlirtilen fonksiyonu uygular. broadcast özelliği kazandırır.\n",
    "# geriye iterasyon yapılabilecek bir map nesnesi döndürür. list veya for ile açabiliriz.\n",
    "\n",
    "list(map(str.capitalize, lst_personel)) # her bir elemana str.capitalize fonksiyonu uyguladık () kullanmadık."
   ]
  },
  {
   "cell_type": "code",
   "execution_count": 26,
   "id": "ec6a5406-7e97-442a-a2f0-6466cf1bc68f",
   "metadata": {},
   "outputs": [
    {
     "data": {
      "text/plain": [
       "['ALI', 'VELI', 'AYŞE']"
      ]
     },
     "execution_count": 26,
     "metadata": {},
     "output_type": "execute_result"
    }
   ],
   "source": [
    "list(map(lambda p:p.upper(), lst_personel))"
   ]
  },
  {
   "cell_type": "code",
   "execution_count": 27,
   "id": "d1758a2d-7d36-438b-80fc-21ea68872a50",
   "metadata": {},
   "outputs": [
    {
     "data": {
      "text/plain": [
       "['Ali', 'Veli', 'Ayşe']"
      ]
     },
     "execution_count": 27,
     "metadata": {},
     "output_type": "execute_result"
    }
   ],
   "source": [
    "[p.capitalize() for p in lst_personel]"
   ]
  },
  {
   "cell_type": "code",
   "execution_count": 28,
   "id": "bb05170b-be6e-4e0f-9ab5-0027703e9210",
   "metadata": {},
   "outputs": [
    {
     "data": {
      "text/plain": [
       "[3, 4, 4]"
      ]
     },
     "execution_count": 28,
     "metadata": {},
     "output_type": "execute_result"
    }
   ],
   "source": [
    "[len(p) for p in lst_personel] # her biri kaç karakter"
   ]
  },
  {
   "cell_type": "code",
   "execution_count": 29,
   "id": "b432ee3d-899f-498e-a7dc-596defd4d0b5",
   "metadata": {},
   "outputs": [
    {
     "data": {
      "text/plain": [
       "{'Ali', 'Ayşe', 'Veli'}"
      ]
     },
     "execution_count": 29,
     "metadata": {},
     "output_type": "execute_result"
    }
   ],
   "source": [
    "{p.capitalize() for p in lst_personel}"
   ]
  },
  {
   "cell_type": "code",
   "execution_count": null,
   "id": "3f111395-f3a7-476d-98fd-b0fe55e1b01c",
   "metadata": {},
   "outputs": [],
   "source": []
  }
 ],
 "metadata": {
  "kernelspec": {
   "display_name": "Python 3 (ipykernel)",
   "language": "python",
   "name": "python3"
  },
  "language_info": {
   "codemirror_mode": {
    "name": "ipython",
    "version": 3
   },
   "file_extension": ".py",
   "mimetype": "text/x-python",
   "name": "python",
   "nbconvert_exporter": "python",
   "pygments_lexer": "ipython3",
   "version": "3.9.5"
  }
 },
 "nbformat": 4,
 "nbformat_minor": 5
}
