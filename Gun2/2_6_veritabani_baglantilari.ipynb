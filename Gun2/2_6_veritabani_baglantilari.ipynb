{
 "cells": [
  {
   "cell_type": "markdown",
   "id": "59c0c852-74fa-467b-a061-ad22f34561f7",
   "metadata": {},
   "source": [
    "![DBAPI](VeritabaniBaglanti.png)\n",
    "\n",
    "* https://peps.python.org/pep-0249/\n",
    "* https://www.sqlite.org/download.html\n",
    "* https://sqlitestudio.pl/\n",
    "* https://www.connectionstrings.com/"
   ]
  },
  {
   "cell_type": "code",
   "execution_count": null,
   "id": "b23e666d-b566-4516-af41-875371da229f",
   "metadata": {},
   "outputs": [],
   "source": [
    "# sqlite a bağlanmak için gerekli kütüphane\n",
    "import sqlite3"
   ]
  },
  {
   "cell_type": "code",
   "execution_count": null,
   "id": "bfd000da-0184-4e83-afbe-f645fba00f98",
   "metadata": {},
   "outputs": [],
   "source": [
    "con = sqlite3.connect(\"./databases/mesajDB.db\") # dosyayı veratabanı olarak kullanacak\n",
    "dir(con)"
   ]
  },
  {
   "cell_type": "code",
   "execution_count": null,
   "id": "ad2db348-bdc0-4cbd-b3a9-3fabc8f9f01b",
   "metadata": {},
   "outputs": [],
   "source": [
    "# tablo oluşturalım\n",
    "con.execute(\"\"\"\n",
    "CREATE TABLE mesaj\n",
    "(\n",
    "    Id int,\n",
    "    Metin nvarchar(100)\n",
    ")\n",
    "\"\"\")"
   ]
  },
  {
   "cell_type": "code",
   "execution_count": null,
   "id": "d188ee5e-f8a2-4c43-961e-c658ab5a3ccf",
   "metadata": {},
   "outputs": [],
   "source": [
    "# tabloyu silmek istersek\n",
    "con.execute(\"DROP TABLE mesaj\")"
   ]
  },
  {
   "cell_type": "code",
   "execution_count": null,
   "id": "38962411-7f87-4696-be04-c405adda9117",
   "metadata": {},
   "outputs": [],
   "source": [
    "# kayıt girelim\n",
    "con.execute(\"INSERT INTO mesaj VALUES(1, '1. Kayıt')\")\n",
    "con.execute(\"INSERT INTO mesaj VALUES(2, '2. Kayıt')\")\n",
    "con.execute(\"INSERT INTO mesaj VALUES(3, '3. Kayıt')\")\n",
    "con.execute(\"INSERT INTO mesaj VALUES(4, '4. Kayıt')\")\n",
    "con.execute(\"INSERT INTO mesaj VALUES(5, '5. Kayıt')\")\n",
    "\n",
    "con.commit() # yapılan değişikliklerin onaylanması\n",
    "# con.rollback() # bilinçli olarak yapılanları geri almak"
   ]
  },
  {
   "cell_type": "code",
   "execution_count": null,
   "id": "b18704ea-6153-448a-bc4b-2ccd308f34e2",
   "metadata": {},
   "outputs": [],
   "source": [
    "imlec = con.execute(\"SELECT * FROM mesaj LIMIT 2\")"
   ]
  },
  {
   "cell_type": "code",
   "execution_count": null,
   "id": "c7594982-836e-49d8-a958-fba93946e8e5",
   "metadata": {},
   "outputs": [],
   "source": [
    "imlec.description"
   ]
  },
  {
   "cell_type": "code",
   "execution_count": null,
   "id": "2ab1b9a5-26f4-4755-b528-4a806d32f719",
   "metadata": {},
   "outputs": [],
   "source": [
    "imlec.fetchall() # tüm satır ve kolonları getirir, satırlar liste içerisinde, kolonlar tuple olarak gelir."
   ]
  },
  {
   "cell_type": "code",
   "execution_count": null,
   "id": "0e893c07-5dc9-4c6e-a098-214d215ff6b7",
   "metadata": {},
   "outputs": [],
   "source": [
    "con.close()"
   ]
  },
  {
   "cell_type": "markdown",
   "id": "bc79e79f-0e81-45fb-b7e6-4963fd1f0e76",
   "metadata": {},
   "source": [
    "### Pandas ile okuma\n",
    "![PandasDF](PandasDF.png)"
   ]
  },
  {
   "cell_type": "code",
   "execution_count": null,
   "id": "d753b198-892b-4e42-9d3c-0847e53a2484",
   "metadata": {},
   "outputs": [],
   "source": [
    "import sqlite3\n",
    "\n",
    "con = sqlite3.connect(\"./databases/mesajDB.db\")"
   ]
  },
  {
   "cell_type": "code",
   "execution_count": null,
   "id": "840bfdb0-daa6-4597-9bcf-120f1e1b01be",
   "metadata": {},
   "outputs": [],
   "source": [
    "import pandas as pd\n",
    "\n",
    "df = pd.read_sql(\"SELECT * FROM mesaj\", con) # dataframe\n",
    "con.close()"
   ]
  },
  {
   "cell_type": "code",
   "execution_count": null,
   "id": "cd6117f8-d7f8-4b02-82f4-c72d94413794",
   "metadata": {},
   "outputs": [],
   "source": [
    "type(df)"
   ]
  },
  {
   "cell_type": "code",
   "execution_count": null,
   "id": "a03d81e5-271e-42de-8293-392822fab7c2",
   "metadata": {},
   "outputs": [],
   "source": [
    "df.head(3) # ilk üç satır gelsin"
   ]
  },
  {
   "cell_type": "code",
   "execution_count": null,
   "id": "a52d7a2e-c549-40c5-86d3-d51fd31b11ad",
   "metadata": {},
   "outputs": [],
   "source": [
    "df.tail(2) # alttan 2 satır getir."
   ]
  },
  {
   "cell_type": "code",
   "execution_count": null,
   "id": "3ab3c618-c7dc-480b-86ee-87282243d282",
   "metadata": {},
   "outputs": [],
   "source": [
    "df.sample(4)"
   ]
  },
  {
   "cell_type": "code",
   "execution_count": null,
   "id": "87f80323-47f9-46b3-892f-e1bbe8bad76d",
   "metadata": {},
   "outputs": [],
   "source": [
    "df.query(\"Id == 4\") # Id si 4 olan satırı getir. pandasın sunmuş olduğu query fonksiyonu ile çalıştırdım."
   ]
  },
  {
   "cell_type": "code",
   "execution_count": null,
   "id": "8a96aa5d-1a40-4237-82ba-cae71107862b",
   "metadata": {},
   "outputs": [],
   "source": [
    "df.Metin # sadece Metin kolonu değeleri"
   ]
  },
  {
   "cell_type": "code",
   "execution_count": null,
   "id": "a252c3a1-40f9-4e7d-9063-8f7dc43d44e2",
   "metadata": {},
   "outputs": [],
   "source": [
    "# iloc ile satır ve sutun sıra numarası kullanarak istediğim bölümü getirebilirim\n",
    "# ör: 2. satır, 0 ve 1. kolon gelsin\n",
    "df.iloc[2, [0,1]]"
   ]
  },
  {
   "cell_type": "code",
   "execution_count": null,
   "id": "17991076-5882-4b0b-a9aa-7239056a16fd",
   "metadata": {},
   "outputs": [],
   "source": [
    "df.loc[0:5:2, [\"Id\",\"Metin\"]] # 0 ile 5. satırları 2 şer atlayıp getir. Id ve Metin kolonları gelsin."
   ]
  },
  {
   "cell_type": "markdown",
   "id": "cd5d8323-8a97-4655-b8a7-219a149a1a42",
   "metadata": {},
   "source": [
    "### Veri Görselleştirme\n",
    "\n",
    "- matplotlib kütüphanesi bu konudaki en temel kütüphanedir."
   ]
  },
  {
   "cell_type": "code",
   "execution_count": 3,
   "id": "f4d61a09-b826-469f-baa2-f35fafc176ce",
   "metadata": {},
   "outputs": [],
   "source": [
    "from matplotlib import pyplot as plt\n",
    "\n",
    "x = [1,2,3,4,5,6,7,8,9,10]"
   ]
  },
  {
   "cell_type": "code",
   "execution_count": 4,
   "id": "b509bde2-3e82-4c66-9d8d-1cdb7cac09cd",
   "metadata": {},
   "outputs": [],
   "source": [
    "import numpy as np\n",
    "\n",
    "x_array = np.array(x)\n",
    "\n",
    "y_array2 = x_array ** 2 # herhangi bir işlem tüm elemanlara uygulanır.\n",
    "y_array3 = x_array ** 3"
   ]
  },
  {
   "cell_type": "code",
   "execution_count": 5,
   "id": "8d845987-5a3c-4c28-887f-4c395cb5cd4a",
   "metadata": {},
   "outputs": [
    {
     "data": {
      "text/plain": [
       "[<matplotlib.lines.Line2D at 0x25a2b21e640>]"
      ]
     },
     "execution_count": 5,
     "metadata": {},
     "output_type": "execute_result"
    },
    {
     "data": {
      "image/png": "[encoded data removed]",
      "text/plain": [
       "<Figure size 640x480 with 1 Axes>"
      ]
     },
     "metadata": {},
     "output_type": "display_data"
    }
   ],
   "source": [
    "plt.plot(x, y_array2)"
   ]
  },
  {
   "cell_type": "code",
   "execution_count": 6,
   "id": "1bd538bb-fc91-482f-9e91-9b44eed09976",
   "metadata": {},
   "outputs": [
    {
     "data": {
      "text/plain": [
       "[<matplotlib.lines.Line2D at 0x25a2b264a60>]"
      ]
     },
     "execution_count": 6,
     "metadata": {},
     "output_type": "execute_result"
    },
    {
     "data": {
      "image/png": "[encoded data removed]",
      "text/plain": [
       "<Figure size 640x480 with 1 Axes>"
      ]
     },
     "metadata": {},
     "output_type": "display_data"
    }
   ],
   "source": [
    "plt.plot(x, y_array3, color=\"red\")"
   ]
  },
  {
   "cell_type": "markdown",
   "id": "af404fc3-53c6-4caf-9334-5501f342c22e",
   "metadata": {},
   "source": [
    "### MSSQL (veya Oracle) ile Çalışmak\n",
    "![MSSQLORACLE](MSSQLveOracleBaglanti.png)"
   ]
  },
  {
   "cell_type": "code",
   "execution_count": 7,
   "id": "39d35def-3198-4279-83ea-7040936660da",
   "metadata": {},
   "outputs": [
    {
     "name": "stdout",
     "output_type": "stream",
     "text": [
      "Collecting pyodbc\n",
      "  Downloading pyodbc-4.0.35-cp39-cp39-win_amd64.whl (66 kB)\n",
      "     -------------------------------------- 66.1/66.1 kB 900.8 kB/s eta 0:00:00\n",
      "Installing collected packages: pyodbc\n",
      "Successfully installed pyodbc-4.0.35\n"
     ]
    }
   ],
   "source": [
    "!pip install pyodbc"
   ]
  },
  {
   "cell_type": "code",
   "execution_count": 8,
   "id": "731ce49a-a7c2-445e-92fb-98e3aa7f11bb",
   "metadata": {},
   "outputs": [
    {
     "name": "stdout",
     "output_type": "stream",
     "text": [
      "Collecting cx-Oracle\n",
      "  Downloading cx_Oracle-8.3.0-cp39-cp39-win_amd64.whl (213 kB)\n",
      "     -------------------------------------- 213.2/213.2 kB 1.2 MB/s eta 0:00:00\n",
      "Installing collected packages: cx-Oracle\n",
      "Successfully installed cx-Oracle-8.3.0\n"
     ]
    }
   ],
   "source": [
    "!pip install cx-Oracle"
   ]
  },
  {
   "cell_type": "code",
   "execution_count": 9,
   "id": "e971294a-b024-4bb7-958d-8cf77bf3965f",
   "metadata": {},
   "outputs": [],
   "source": [
    "import pyodbc # import cx_Oracle"
   ]
  },
  {
   "cell_type": "code",
   "execution_count": 10,
   "id": "a9ec69f3-2ecd-4c65-8803-f92f0fd78a57",
   "metadata": {},
   "outputs": [
    {
     "data": {
      "text/plain": [
       "['SQL Server',\n",
       " 'SQL Server Native Client 11.0',\n",
       " 'ODBC Driver 13 for SQL Server',\n",
       " 'SQL Server Native Client RDA 11.0',\n",
       " 'ODBC Driver 17 for SQL Server']"
      ]
     },
     "execution_count": 10,
     "metadata": {},
     "output_type": "execute_result"
    }
   ],
   "source": [
    "pyodbc.drivers()"
   ]
  },
  {
   "cell_type": "code",
   "execution_count": 28,
   "id": "c9ff4ef3-c55c-49dd-9a8b-2df108c74fae",
   "metadata": {},
   "outputs": [],
   "source": [
    "con_str = \"Driver={ODBC Driver 17 for SQL Server};Server=localhost;Database=AdventureWorks2012;Trusted_Connection=yes;\"\n",
    "\n",
    "con = pyodbc.connect(con_str) # cx_Oracle.connect(con_str)"
   ]
  },
  {
   "cell_type": "code",
   "execution_count": 20,
   "id": "f7c6cee9-a745-4b34-bddd-d157f8cd22df",
   "metadata": {},
   "outputs": [
    {
     "data": {
      "text/plain": [
       "('Microsoft SQL Server 2016 (RTM-GDR) (KB4019088) - 13.0.1742.0 (X64) \\n\\tJul  5 2017 23:41:17 \\n\\tCopyright (c) Microsoft Corporation\\n\\tEnterprise Edition (64-bit) on Windows 10 Education 6.3 <X64> (Build 19045: ) (Hypervisor)\\n', )"
      ]
     },
     "execution_count": 20,
     "metadata": {},
     "output_type": "execute_result"
    }
   ],
   "source": [
    "imlec = con.execute(\"SELECT @@version\")\n",
    "imlec.fetchone() # tek hücre gelecek"
   ]
  },
  {
   "cell_type": "code",
   "execution_count": 25,
   "id": "62d2ea33-26b5-48b3-a61e-f6079cdd2a27",
   "metadata": {},
   "outputs": [],
   "source": [
    "imlec = con.execute(\"SELECT Name, ListPrice, Color FROM Production.Product\")"
   ]
  },
  {
   "cell_type": "code",
   "execution_count": 26,
   "id": "577760ec-5e79-41f5-bb52-1172008dca42",
   "metadata": {},
   "outputs": [
    {
     "data": {
      "text/plain": [
       "('Adjustable Race', Decimal('0.0000'), None)"
      ]
     },
     "execution_count": 26,
     "metadata": {},
     "output_type": "execute_result"
    }
   ],
   "source": [
    "imlec.fetchone()"
   ]
  },
  {
   "cell_type": "code",
   "execution_count": 29,
   "id": "c1775fcd-437c-4d7d-8395-606637cf9eef",
   "metadata": {},
   "outputs": [
    {
     "name": "stderr",
     "output_type": "stream",
     "text": [
      "C:\\Users\\ragip\\AppData\\Local\\Temp\\ipykernel_14304\\1269171495.py:3: UserWarning: pandas only supports SQLAlchemy connectable (engine/connection) or database string URI or sqlite3 DBAPI2 connection. Other DBAPI2 objects are not tested. Please consider using SQLAlchemy.\n",
      "  df = pd.read_sql(\"SELECT Name, ListPrice, Color FROM Production.Product\", con)\n"
     ]
    },
    {
     "data": {
      "text/html": [
       "<div>\n",
       "<style scoped>\n",
       "    .dataframe tbody tr th:only-of-type {\n",
       "        vertical-align: middle;\n",
       "    }\n",
       "\n",
       "    .dataframe tbody tr th {\n",
       "        vertical-align: top;\n",
       "    }\n",
       "\n",
       "    .dataframe thead th {\n",
       "        text-align: right;\n",
       "    }\n",
       "</style>\n",
       "<table border=\"1\" class=\"dataframe\">\n",
       "  <thead>\n",
       "    <tr style=\"text-align: right;\">\n",
       "      <th></th>\n",
       "      <th>Name</th>\n",
       "      <th>ListPrice</th>\n",
       "      <th>Color</th>\n",
       "    </tr>\n",
       "  </thead>\n",
       "  <tbody>\n",
       "    <tr>\n",
       "      <th>0</th>\n",
       "      <td>Adjustable Race</td>\n",
       "      <td>0.0</td>\n",
       "      <td>None</td>\n",
       "    </tr>\n",
       "    <tr>\n",
       "      <th>1</th>\n",
       "      <td>Bearing Ball</td>\n",
       "      <td>0.0</td>\n",
       "      <td>None</td>\n",
       "    </tr>\n",
       "    <tr>\n",
       "      <th>2</th>\n",
       "      <td>BB Ball Bearing</td>\n",
       "      <td>0.0</td>\n",
       "      <td>None</td>\n",
       "    </tr>\n",
       "    <tr>\n",
       "      <th>3</th>\n",
       "      <td>Headset Ball Bearings</td>\n",
       "      <td>0.0</td>\n",
       "      <td>None</td>\n",
       "    </tr>\n",
       "    <tr>\n",
       "      <th>4</th>\n",
       "      <td>Blade</td>\n",
       "      <td>0.0</td>\n",
       "      <td>None</td>\n",
       "    </tr>\n",
       "  </tbody>\n",
       "</table>\n",
       "</div>"
      ],
      "text/plain": [
       "                    Name  ListPrice Color\n",
       "0        Adjustable Race        0.0  None\n",
       "1           Bearing Ball        0.0  None\n",
       "2        BB Ball Bearing        0.0  None\n",
       "3  Headset Ball Bearings        0.0  None\n",
       "4                  Blade        0.0  None"
      ]
     },
     "execution_count": 29,
     "metadata": {},
     "output_type": "execute_result"
    }
   ],
   "source": [
    "import pandas as pd\n",
    "\n",
    "df = pd.read_sql(\"SELECT Name, ListPrice, Color FROM Production.Product\", con)\n",
    "df.head()"
   ]
  },
  {
   "cell_type": "code",
   "execution_count": 30,
   "id": "3322717e-6705-4919-a609-8345e580271b",
   "metadata": {},
   "outputs": [
    {
     "data": {
      "image/png": "[encoded data removed]",
      "text/plain": [
       "<Figure size 640x480 with 1 Axes>"
      ]
     },
     "metadata": {},
     "output_type": "display_data"
    }
   ],
   "source": [
    "plt.hist(df.ListPrice, bins=3)\n",
    "plt.show()"
   ]
  },
  {
   "cell_type": "code",
   "execution_count": 31,
   "id": "3db5ad4d-650a-4f60-80ba-8c703d7e58c7",
   "metadata": {},
   "outputs": [],
   "source": [
    "con.close()"
   ]
  },
  {
   "cell_type": "code",
   "execution_count": null,
   "id": "100c475f-30ac-4050-af6c-756a0908c357",
   "metadata": {},
   "outputs": [],
   "source": []
  }
 ],
 "metadata": {
  "kernelspec": {
   "display_name": "Python 3 (ipykernel)",
   "language": "python",
   "name": "python3"
  },
  "language_info": {
   "codemirror_mode": {
    "name": "ipython",
    "version": 3
   },
   "file_extension": ".py",
   "mimetype": "text/x-python",
   "name": "python",
   "nbconvert_exporter": "python",
   "pygments_lexer": "ipython3",
   "version": "3.9.5"
  }
 },
 "nbformat": 4,
 "nbformat_minor": 5
}
