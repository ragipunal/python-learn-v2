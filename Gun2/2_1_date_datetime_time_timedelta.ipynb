{
 "cells": [
  {
   "cell_type": "markdown",
   "id": "9da063d6-80d2-4c94-9dec-4b6653c02df2",
   "metadata": {},
   "source": [
    "# Zamansal Veri Tipleri\n",
    "\n",
    "**datetime** paketi ile aşağıdaki tipleri kullanabiliriz.\n",
    "\n",
    "- **date**: sadece tarih\n",
    "- **datetime**: tarih ve zaman\n",
    "- **time**: zaman\n",
    "- **timedelta**: iki zaman arasındaki farkı temsil eder."
   ]
  },
  {
   "cell_type": "code",
   "execution_count": 1,
   "id": "ed7fe915-baef-47d9-a009-ff01c1b2a6a1",
   "metadata": {},
   "outputs": [],
   "source": [
    "from datetime import date, datetime, time, timedelta"
   ]
  },
  {
   "cell_type": "code",
   "execution_count": 2,
   "id": "c9863b1c-385c-4f42-a189-2d5759ea32f6",
   "metadata": {},
   "outputs": [
    {
     "data": {
      "text/plain": [
       "['__add__',\n",
       " '__class__',\n",
       " '__delattr__',\n",
       " '__dir__',\n",
       " '__doc__',\n",
       " '__eq__',\n",
       " '__format__',\n",
       " '__ge__',\n",
       " '__getattribute__',\n",
       " '__gt__',\n",
       " '__hash__',\n",
       " '__init__',\n",
       " '__init_subclass__',\n",
       " '__le__',\n",
       " '__lt__',\n",
       " '__ne__',\n",
       " '__new__',\n",
       " '__radd__',\n",
       " '__reduce__',\n",
       " '__reduce_ex__',\n",
       " '__repr__',\n",
       " '__rsub__',\n",
       " '__setattr__',\n",
       " '__sizeof__',\n",
       " '__str__',\n",
       " '__sub__',\n",
       " '__subclasshook__',\n",
       " 'ctime',\n",
       " 'day',\n",
       " 'fromisocalendar',\n",
       " 'fromisoformat',\n",
       " 'fromordinal',\n",
       " 'fromtimestamp',\n",
       " 'isocalendar',\n",
       " 'isoformat',\n",
       " 'isoweekday',\n",
       " 'max',\n",
       " 'min',\n",
       " 'month',\n",
       " 'replace',\n",
       " 'resolution',\n",
       " 'strftime',\n",
       " 'timetuple',\n",
       " 'today',\n",
       " 'toordinal',\n",
       " 'weekday',\n",
       " 'year']"
      ]
     },
     "execution_count": 2,
     "metadata": {},
     "output_type": "execute_result"
    }
   ],
   "source": [
    "dir(date)"
   ]
  },
  {
   "cell_type": "code",
   "execution_count": 3,
   "id": "26ada81b-d361-45d2-810c-3c15fd797b8a",
   "metadata": {},
   "outputs": [
    {
     "data": {
      "text/plain": [
       "datetime.date(2022, 11, 21)"
      ]
     },
     "execution_count": 3,
     "metadata": {},
     "output_type": "execute_result"
    }
   ],
   "source": [
    "date.today()"
   ]
  },
  {
   "cell_type": "code",
   "execution_count": 4,
   "id": "7a5ef797-93c6-4e44-92f4-b3a025d8252b",
   "metadata": {},
   "outputs": [
    {
     "data": {
      "text/plain": [
       "21"
      ]
     },
     "execution_count": 4,
     "metadata": {},
     "output_type": "execute_result"
    }
   ],
   "source": [
    "date.today().day"
   ]
  },
  {
   "cell_type": "code",
   "execution_count": 5,
   "id": "512275fc-1dcb-4044-b8a5-11a17da81239",
   "metadata": {},
   "outputs": [
    {
     "data": {
      "text/plain": [
       "11"
      ]
     },
     "execution_count": 5,
     "metadata": {},
     "output_type": "execute_result"
    }
   ],
   "source": [
    "date.today().month"
   ]
  },
  {
   "cell_type": "code",
   "execution_count": 6,
   "id": "f438f008-6faa-4e76-b353-94a159325c0d",
   "metadata": {},
   "outputs": [
    {
     "data": {
      "text/plain": [
       "2022"
      ]
     },
     "execution_count": 6,
     "metadata": {},
     "output_type": "execute_result"
    }
   ],
   "source": [
    "date.today().year"
   ]
  },
  {
   "cell_type": "markdown",
   "id": "210ccd9b-7e65-4607-bffc-afbfab11ec01",
   "metadata": {},
   "source": [
    "### datetime"
   ]
  },
  {
   "cell_type": "code",
   "execution_count": 8,
   "id": "522834f6-c1b6-4c99-bef8-d1b2495ab899",
   "metadata": {},
   "outputs": [
    {
     "data": {
      "text/plain": [
       "['__add__',\n",
       " '__class__',\n",
       " '__delattr__',\n",
       " '__dir__',\n",
       " '__doc__',\n",
       " '__eq__',\n",
       " '__format__',\n",
       " '__ge__',\n",
       " '__getattribute__',\n",
       " '__gt__',\n",
       " '__hash__',\n",
       " '__init__',\n",
       " '__init_subclass__',\n",
       " '__le__',\n",
       " '__lt__',\n",
       " '__ne__',\n",
       " '__new__',\n",
       " '__radd__',\n",
       " '__reduce__',\n",
       " '__reduce_ex__',\n",
       " '__repr__',\n",
       " '__rsub__',\n",
       " '__setattr__',\n",
       " '__sizeof__',\n",
       " '__str__',\n",
       " '__sub__',\n",
       " '__subclasshook__',\n",
       " 'astimezone',\n",
       " 'combine',\n",
       " 'ctime',\n",
       " 'date',\n",
       " 'day',\n",
       " 'dst',\n",
       " 'fold',\n",
       " 'fromisocalendar',\n",
       " 'fromisoformat',\n",
       " 'fromordinal',\n",
       " 'fromtimestamp',\n",
       " 'hour',\n",
       " 'isocalendar',\n",
       " 'isoformat',\n",
       " 'isoweekday',\n",
       " 'max',\n",
       " 'microsecond',\n",
       " 'min',\n",
       " 'minute',\n",
       " 'month',\n",
       " 'now',\n",
       " 'replace',\n",
       " 'resolution',\n",
       " 'second',\n",
       " 'strftime',\n",
       " 'strptime',\n",
       " 'time',\n",
       " 'timestamp',\n",
       " 'timetuple',\n",
       " 'timetz',\n",
       " 'today',\n",
       " 'toordinal',\n",
       " 'tzinfo',\n",
       " 'tzname',\n",
       " 'utcfromtimestamp',\n",
       " 'utcnow',\n",
       " 'utcoffset',\n",
       " 'utctimetuple',\n",
       " 'weekday',\n",
       " 'year']"
      ]
     },
     "execution_count": 8,
     "metadata": {},
     "output_type": "execute_result"
    }
   ],
   "source": [
    "dir(datetime)"
   ]
  },
  {
   "cell_type": "code",
   "execution_count": 9,
   "id": "8440c4d4-d87f-4e39-b29c-c911f443ff7b",
   "metadata": {},
   "outputs": [
    {
     "data": {
      "text/plain": [
       "datetime.datetime(2022, 11, 21, 15, 59, 3, 802935)"
      ]
     },
     "execution_count": 9,
     "metadata": {},
     "output_type": "execute_result"
    }
   ],
   "source": [
    "# bugünün tarihi\n",
    "datetime.today()"
   ]
  },
  {
   "cell_type": "code",
   "execution_count": 10,
   "id": "84fbcf70-f03d-4110-8e76-e402f609b238",
   "metadata": {},
   "outputs": [
    {
     "data": {
      "text/plain": [
       "datetime.datetime(2022, 11, 21, 15, 59, 24, 868735)"
      ]
     },
     "execution_count": 10,
     "metadata": {},
     "output_type": "execute_result"
    }
   ],
   "source": [
    "datetime.now()"
   ]
  },
  {
   "cell_type": "code",
   "execution_count": 11,
   "id": "21916db8-0e40-4fe3-96f9-32791b8bec0f",
   "metadata": {},
   "outputs": [
    {
     "data": {
      "text/plain": [
       "2022"
      ]
     },
     "execution_count": 11,
     "metadata": {},
     "output_type": "execute_result"
    }
   ],
   "source": [
    "datetime.now().year"
   ]
  },
  {
   "cell_type": "code",
   "execution_count": 12,
   "id": "f28b0630-d32f-4ec2-b288-dcf65ca6e2d4",
   "metadata": {},
   "outputs": [
    {
     "data": {
      "text/plain": [
       "datetime.time(15, 59, 59, 636457)"
      ]
     },
     "execution_count": 12,
     "metadata": {},
     "output_type": "execute_result"
    }
   ],
   "source": [
    "datetime.now().time()"
   ]
  },
  {
   "cell_type": "code",
   "execution_count": 13,
   "id": "f0d2699d-43b8-46a5-bd2e-7e9bae466701",
   "metadata": {},
   "outputs": [
    {
     "data": {
      "text/plain": [
       "16"
      ]
     },
     "execution_count": 13,
     "metadata": {},
     "output_type": "execute_result"
    }
   ],
   "source": [
    "datetime.now().time().hour"
   ]
  },
  {
   "cell_type": "code",
   "execution_count": 14,
   "id": "409408a7-6a17-4706-a1ba-a6aa1ce70818",
   "metadata": {},
   "outputs": [
    {
     "data": {
      "text/plain": [
       "0"
      ]
     },
     "execution_count": 14,
     "metadata": {},
     "output_type": "execute_result"
    }
   ],
   "source": [
    "datetime.now().time().minute"
   ]
  },
  {
   "cell_type": "code",
   "execution_count": 15,
   "id": "cc40339b-b3a9-466b-83b6-d924ea2871c0",
   "metadata": {},
   "outputs": [
    {
     "data": {
      "text/plain": [
       "48"
      ]
     },
     "execution_count": 15,
     "metadata": {},
     "output_type": "execute_result"
    }
   ],
   "source": [
    "datetime.now().time().second"
   ]
  },
  {
   "cell_type": "markdown",
   "id": "54fc58fb-47de-4ae6-8f4e-0b9c7bb9f123",
   "metadata": {},
   "source": [
    "### Tarih oluşturma"
   ]
  },
  {
   "cell_type": "code",
   "execution_count": 16,
   "id": "a530ef31-1151-4c93-9782-087b74d5184a",
   "metadata": {},
   "outputs": [
    {
     "name": "stdout",
     "output_type": "stream",
     "text": [
      "<class 'datetime.date'>\n",
      "2022-10-08\n"
     ]
    }
   ],
   "source": [
    "tarih = date(year=2022, month=10, day=8)\n",
    "\n",
    "print(type(tarih))\n",
    "\n",
    "print(tarih)"
   ]
  },
  {
   "cell_type": "code",
   "execution_count": 17,
   "id": "54304407-86eb-409e-95cb-59e0587dcbcf",
   "metadata": {},
   "outputs": [
    {
     "name": "stdout",
     "output_type": "stream",
     "text": [
      "2022-11-08\n"
     ]
    }
   ],
   "source": [
    "tarih = tarih.replace(month=11)\n",
    "print(tarih)"
   ]
  },
  {
   "cell_type": "code",
   "execution_count": 18,
   "id": "c2c09c33-be87-4571-bc7a-a51b88e2bea2",
   "metadata": {},
   "outputs": [],
   "source": [
    "# iso\n",
    "# yıl-ay-gun 0000-00-00"
   ]
  },
  {
   "cell_type": "markdown",
   "id": "e0352481-0d01-4705-9e4b-c49546a976ed",
   "metadata": {},
   "source": [
    "### strptime ile giriş formatı belirleyelim\n",
    "\n",
    "- giriş formatı format kodları ile belirtilir. Mesela %Y, %m, %d şeklinde"
   ]
  },
  {
   "cell_type": "code",
   "execution_count": 19,
   "id": "87d60a7f-d8f7-4a72-a738-364e1357f0c9",
   "metadata": {},
   "outputs": [
    {
     "name": "stdout",
     "output_type": "stream",
     "text": [
      "<class 'datetime.datetime'>\n",
      "2022-11-08 00:00:00\n"
     ]
    }
   ],
   "source": [
    "str_tarih = '08/11/2022'\n",
    "\n",
    "tarih = datetime.strptime(str_tarih, \"%d/%m/%Y\")\n",
    "\n",
    "print(type(tarih))\n",
    "\n",
    "print(tarih) # iso formatında ver."
   ]
  },
  {
   "cell_type": "markdown",
   "id": "0bfc7de0-9302-4b70-8ebb-d7edc7fcc782",
   "metadata": {},
   "source": [
    "### strftime ile çıktı formatı belirleyelim."
   ]
  },
  {
   "cell_type": "code",
   "execution_count": 20,
   "id": "b220046f-3219-4c8f-b909-e229aeca69de",
   "metadata": {},
   "outputs": [
    {
     "name": "stdout",
     "output_type": "stream",
     "text": [
      "2022-11-08 00:00:00\n",
      "Tuesday 08. November 2022\n",
      "08-11-2022\n"
     ]
    }
   ],
   "source": [
    "print(tarih)\n",
    "\n",
    "print(tarih.strftime(\"%A %d. %B %Y\"))\n",
    "\n",
    "print(tarih.strftime(\"%d-%m-%Y\"))"
   ]
  },
  {
   "cell_type": "markdown",
   "id": "6a334966-2de5-43f6-924c-2b9afd40979f",
   "metadata": {},
   "source": [
    "![Strftime](strftime_Format.png)"
   ]
  },
  {
   "cell_type": "code",
   "execution_count": 21,
   "id": "6482c3b8-975b-4a0d-89ab-289764dd6ffb",
   "metadata": {},
   "outputs": [
    {
     "data": {
      "text/plain": [
       "['__abs__',\n",
       " '__add__',\n",
       " '__bool__',\n",
       " '__class__',\n",
       " '__delattr__',\n",
       " '__dir__',\n",
       " '__divmod__',\n",
       " '__doc__',\n",
       " '__eq__',\n",
       " '__floordiv__',\n",
       " '__format__',\n",
       " '__ge__',\n",
       " '__getattribute__',\n",
       " '__gt__',\n",
       " '__hash__',\n",
       " '__init__',\n",
       " '__init_subclass__',\n",
       " '__le__',\n",
       " '__lt__',\n",
       " '__mod__',\n",
       " '__mul__',\n",
       " '__ne__',\n",
       " '__neg__',\n",
       " '__new__',\n",
       " '__pos__',\n",
       " '__radd__',\n",
       " '__rdivmod__',\n",
       " '__reduce__',\n",
       " '__reduce_ex__',\n",
       " '__repr__',\n",
       " '__rfloordiv__',\n",
       " '__rmod__',\n",
       " '__rmul__',\n",
       " '__rsub__',\n",
       " '__rtruediv__',\n",
       " '__setattr__',\n",
       " '__sizeof__',\n",
       " '__str__',\n",
       " '__sub__',\n",
       " '__subclasshook__',\n",
       " '__truediv__',\n",
       " 'days',\n",
       " 'max',\n",
       " 'microseconds',\n",
       " 'min',\n",
       " 'resolution',\n",
       " 'seconds',\n",
       " 'total_seconds']"
      ]
     },
     "execution_count": 21,
     "metadata": {},
     "output_type": "execute_result"
    }
   ],
   "source": [
    "### timedelta\n",
    "\n",
    "dir(timedelta)"
   ]
  },
  {
   "cell_type": "code",
   "execution_count": 23,
   "id": "38a76f15-a993-40c1-b66b-72a5998f6b06",
   "metadata": {},
   "outputs": [
    {
     "name": "stdout",
     "output_type": "stream",
     "text": [
      "<class 'datetime.timedelta'>\n",
      "40 days, 0:00:00\n",
      "40\n",
      "0\n",
      "3456000.0\n"
     ]
    }
   ],
   "source": [
    "tarih_farki = date(2022, 12, 31) - date.today()\n",
    "\n",
    "print(type(tarih_farki))\n",
    "print(tarih_farki)\n",
    "\n",
    "print(tarih_farki.days)\n",
    "print(tarih_farki.seconds)\n",
    "\n",
    "print(tarih_farki.total_seconds())"
   ]
  },
  {
   "cell_type": "code",
   "execution_count": 25,
   "id": "1f943a5a-9274-4417-b64b-79dddc63d33d",
   "metadata": {},
   "outputs": [
    {
     "data": {
      "text/plain": [
       "datetime.date(2022, 11, 28)"
      ]
     },
     "execution_count": 25,
     "metadata": {},
     "output_type": "execute_result"
    }
   ],
   "source": [
    "# tarihte 7 gün iler gitmek için zaman farkı oluşturalım.\n",
    "\n",
    "yedi_gun = timedelta(days=7) # 7 günlük fark\n",
    "\n",
    "date.today() + yedi_gun"
   ]
  },
  {
   "cell_type": "code",
   "execution_count": 26,
   "id": "ab2babb3-d64b-4229-9469-818b8c60d203",
   "metadata": {},
   "outputs": [
    {
     "data": {
      "text/plain": [
       "datetime.date(2022, 12, 12)"
      ]
     },
     "execution_count": 26,
     "metadata": {},
     "output_type": "execute_result"
    }
   ],
   "source": [
    "date.today() + yedi_gun*3"
   ]
  },
  {
   "cell_type": "code",
   "execution_count": 27,
   "id": "319d84ca-688b-46d7-8f05-01f17b35e1d9",
   "metadata": {},
   "outputs": [
    {
     "name": "stdout",
     "output_type": "stream",
     "text": [
      "Siz doğalı 26,622 gün, 58,749 saniye oldu\n",
      "Siz doğalı toplamda 2,300,199,550 saniye oldu.\n"
     ]
    }
   ],
   "source": [
    "# soru\n",
    "# Doğalı kaç gün kaç saniye olmuş\n",
    "# toplamda kaç saniye geçmiş.\n",
    "dogum_tarihi = datetime.strptime(\"01/01/1950\", \"%d/%m/%Y\")\n",
    "\n",
    "gecen_sure = datetime.today() - dogum_tarihi\n",
    "\n",
    "print(\"Siz doğalı {:,} gün, {:,} saniye oldu\".format(gecen_sure.days, gecen_sure.seconds))\n",
    "print(f\"Siz doğalı toplamda {gecen_sure.total_seconds():,.0f} saniye oldu.\")"
   ]
  },
  {
   "cell_type": "code",
   "execution_count": null,
   "id": "8c574904-3c5d-4c24-9b2b-342380ff0495",
   "metadata": {},
   "outputs": [],
   "source": []
  }
 ],
 "metadata": {
  "kernelspec": {
   "display_name": "Python 3 (ipykernel)",
   "language": "python",
   "name": "python3"
  },
  "language_info": {
   "codemirror_mode": {
    "name": "ipython",
    "version": 3
   },
   "file_extension": ".py",
   "mimetype": "text/x-python",
   "name": "python",
   "nbconvert_exporter": "python",
   "pygments_lexer": "ipython3",
   "version": "3.10.8"
  }
 },
 "nbformat": 4,
 "nbformat_minor": 5
}
