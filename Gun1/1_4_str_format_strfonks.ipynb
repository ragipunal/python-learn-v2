{
 "cells": [
  {
   "cell_type": "markdown",
   "id": "7025438e-ede9-42d0-9333-2612c78585c5",
   "metadata": {},
   "source": [
    "### str tipi ve bazı str fonksiyonları"
   ]
  },
  {
   "cell_type": "code",
   "execution_count": 1,
   "id": "0f0ed869-8ce0-43c7-9aeb-4de922e734d1",
   "metadata": {},
   "outputs": [
    {
     "data": {
      "text/plain": [
       "['__add__',\n",
       " '__class__',\n",
       " '__contains__',\n",
       " '__delattr__',\n",
       " '__dir__',\n",
       " '__doc__',\n",
       " '__eq__',\n",
       " '__format__',\n",
       " '__ge__',\n",
       " '__getattribute__',\n",
       " '__getitem__',\n",
       " '__getnewargs__',\n",
       " '__gt__',\n",
       " '__hash__',\n",
       " '__init__',\n",
       " '__init_subclass__',\n",
       " '__iter__',\n",
       " '__le__',\n",
       " '__len__',\n",
       " '__lt__',\n",
       " '__mod__',\n",
       " '__mul__',\n",
       " '__ne__',\n",
       " '__new__',\n",
       " '__reduce__',\n",
       " '__reduce_ex__',\n",
       " '__repr__',\n",
       " '__rmod__',\n",
       " '__rmul__',\n",
       " '__setattr__',\n",
       " '__sizeof__',\n",
       " '__str__',\n",
       " '__subclasshook__',\n",
       " 'capitalize',\n",
       " 'casefold',\n",
       " 'center',\n",
       " 'count',\n",
       " 'encode',\n",
       " 'endswith',\n",
       " 'expandtabs',\n",
       " 'find',\n",
       " 'format',\n",
       " 'format_map',\n",
       " 'index',\n",
       " 'isalnum',\n",
       " 'isalpha',\n",
       " 'isascii',\n",
       " 'isdecimal',\n",
       " 'isdigit',\n",
       " 'isidentifier',\n",
       " 'islower',\n",
       " 'isnumeric',\n",
       " 'isprintable',\n",
       " 'isspace',\n",
       " 'istitle',\n",
       " 'isupper',\n",
       " 'join',\n",
       " 'ljust',\n",
       " 'lower',\n",
       " 'lstrip',\n",
       " 'maketrans',\n",
       " 'partition',\n",
       " 'removeprefix',\n",
       " 'removesuffix',\n",
       " 'replace',\n",
       " 'rfind',\n",
       " 'rindex',\n",
       " 'rjust',\n",
       " 'rpartition',\n",
       " 'rsplit',\n",
       " 'rstrip',\n",
       " 'split',\n",
       " 'splitlines',\n",
       " 'startswith',\n",
       " 'strip',\n",
       " 'swapcase',\n",
       " 'title',\n",
       " 'translate',\n",
       " 'upper',\n",
       " 'zfill']"
      ]
     },
     "execution_count": 1,
     "metadata": {},
     "output_type": "execute_result"
    }
   ],
   "source": [
    "dir(str)"
   ]
  },
  {
   "cell_type": "code",
   "execution_count": 2,
   "id": "fd20afa2-562b-4c47-a43e-69a61f86bef1",
   "metadata": {},
   "outputs": [
    {
     "name": "stdout",
     "output_type": "stream",
     "text": [
      "Help on method_descriptor:\n",
      "\n",
      "upper(self, /)\n",
      "    Return a copy of the string converted to uppercase.\n",
      "\n"
     ]
    }
   ],
   "source": [
    "help(str.upper)"
   ]
  },
  {
   "cell_type": "code",
   "execution_count": 3,
   "id": "ee9aecb3-014d-400d-acb4-2940e9f302ff",
   "metadata": {},
   "outputs": [
    {
     "data": {
      "text/plain": [
       "'Return a copy of the string converted to uppercase.'"
      ]
     },
     "execution_count": 3,
     "metadata": {},
     "output_type": "execute_result"
    }
   ],
   "source": [
    "str.upper.__doc__"
   ]
  },
  {
   "cell_type": "code",
   "execution_count": 4,
   "id": "89687c5d-bf86-4225-a163-fbc06791df12",
   "metadata": {},
   "outputs": [],
   "source": [
    "metin = \"MeRHaBA düNYAlI \" ## sonuna boşluk koydum"
   ]
  },
  {
   "cell_type": "code",
   "execution_count": 5,
   "id": "50272417-cc81-4840-b65a-e1ad0d99efd8",
   "metadata": {},
   "outputs": [
    {
     "data": {
      "text/plain": [
       "'Merhaba Dünyali '"
      ]
     },
     "execution_count": 5,
     "metadata": {},
     "output_type": "execute_result"
    }
   ],
   "source": [
    "str.title(metin)"
   ]
  },
  {
   "cell_type": "code",
   "execution_count": 6,
   "id": "db0fd90b-73b9-4a05-a388-4e1c8e946163",
   "metadata": {},
   "outputs": [
    {
     "data": {
      "text/plain": [
       "'Merhaba Dünyali '"
      ]
     },
     "execution_count": 6,
     "metadata": {},
     "output_type": "execute_result"
    }
   ],
   "source": [
    "metin.title()"
   ]
  },
  {
   "cell_type": "code",
   "execution_count": 7,
   "id": "2339234a-0a58-4b4e-8de3-f9cb1ed057a0",
   "metadata": {},
   "outputs": [
    {
     "data": {
      "text/plain": [
       "'MeRHaBA düNYAlI '"
      ]
     },
     "execution_count": 7,
     "metadata": {},
     "output_type": "execute_result"
    }
   ],
   "source": [
    "metin"
   ]
  },
  {
   "cell_type": "code",
   "execution_count": 8,
   "id": "de0bc411-307f-454e-b0fd-f174cdd3fa06",
   "metadata": {},
   "outputs": [
    {
     "data": {
      "text/plain": [
       "16"
      ]
     },
     "execution_count": 8,
     "metadata": {},
     "output_type": "execute_result"
    }
   ],
   "source": [
    "metin.__len__()"
   ]
  },
  {
   "cell_type": "code",
   "execution_count": 10,
   "id": "cd0dbdd0-c6a9-4788-be83-47f737b6ec6a",
   "metadata": {},
   "outputs": [
    {
     "data": {
      "text/plain": [
       "16"
      ]
     },
     "execution_count": 10,
     "metadata": {},
     "output_type": "execute_result"
    }
   ],
   "source": [
    "len(metin) # container larda çalışır."
   ]
  },
  {
   "cell_type": "code",
   "execution_count": 11,
   "id": "de4eaaa0-33cc-450e-9119-cb5f801051d0",
   "metadata": {},
   "outputs": [
    {
     "data": {
      "text/plain": [
       "'MeRHaBA düNYAlI'"
      ]
     },
     "execution_count": 11,
     "metadata": {},
     "output_type": "execute_result"
    }
   ],
   "source": [
    "metin.strip(\" \") # başta ve sonraki belirtilen karakteri temizleyelim."
   ]
  },
  {
   "cell_type": "code",
   "execution_count": 12,
   "id": "076b8f04-fa18-4540-bb56-51f42b6e716b",
   "metadata": {},
   "outputs": [
    {
     "data": {
      "text/plain": [
       "'Merhaba Dünyali'"
      ]
     },
     "execution_count": 12,
     "metadata": {},
     "output_type": "execute_result"
    }
   ],
   "source": [
    "metin.strip(\" \").title() # arka arkaya kullanabiliyoruz."
   ]
  },
  {
   "cell_type": "code",
   "execution_count": 13,
   "id": "1aa0b580-ac40-4bd4-9f14-c5cad508ea17",
   "metadata": {},
   "outputs": [
    {
     "data": {
      "text/plain": [
       "2"
      ]
     },
     "execution_count": 13,
     "metadata": {},
     "output_type": "execute_result"
    }
   ],
   "source": [
    "metin.count(\"A\") # büyük küçüğe duyarlı"
   ]
  },
  {
   "cell_type": "code",
   "execution_count": 14,
   "id": "5cc97ef2-095f-4ce4-b77a-1d25238bfc29",
   "metadata": {},
   "outputs": [
    {
     "data": {
      "text/plain": [
       "3"
      ]
     },
     "execution_count": 14,
     "metadata": {},
     "output_type": "execute_result"
    }
   ],
   "source": [
    "metin.lower().count(\"a\")"
   ]
  },
  {
   "cell_type": "code",
   "execution_count": 15,
   "id": "465739b1-0c28-4b63-a65b-6ea2ee19269d",
   "metadata": {},
   "outputs": [
    {
     "data": {
      "text/plain": [
       "'.......MeRHaBA düNYAlI .......'"
      ]
     },
     "execution_count": 15,
     "metadata": {},
     "output_type": "execute_result"
    }
   ],
   "source": [
    "metin.center(30, \".\") # 30 karakter içersine ortala, ikinci param. karakter boşluklara yazılır."
   ]
  },
  {
   "cell_type": "code",
   "execution_count": 17,
   "id": "b98bee04-f4f1-4efc-b06f-6bfedf067cca",
   "metadata": {},
   "outputs": [
    {
     "data": {
      "text/plain": [
       "6"
      ]
     },
     "execution_count": 17,
     "metadata": {},
     "output_type": "execute_result"
    }
   ],
   "source": [
    "metin.find(\"A\") #ilk indexini döner"
   ]
  },
  {
   "cell_type": "code",
   "execution_count": 18,
   "id": "a78dc5e8-854d-441d-b1d5-a1c1f9aa3f86",
   "metadata": {},
   "outputs": [
    {
     "data": {
      "text/plain": [
       "'A'"
      ]
     },
     "execution_count": 18,
     "metadata": {},
     "output_type": "execute_result"
    }
   ],
   "source": [
    "metin[6]"
   ]
  },
  {
   "cell_type": "code",
   "execution_count": 19,
   "id": "2df90a02-fe64-44b2-a9f9-d8116d9e39b2",
   "metadata": {},
   "outputs": [
    {
     "data": {
      "text/plain": [
       "'MeRhaba düNYAlI '"
      ]
     },
     "execution_count": 19,
     "metadata": {},
     "output_type": "execute_result"
    }
   ],
   "source": [
    "metin.replace(\"HaBA\", \"haba\") # birinci param. ifadeyei ikinci parametre ile değiştir."
   ]
  },
  {
   "cell_type": "code",
   "execution_count": 20,
   "id": "ac0d7851-c1a8-4249-8bae-539688b8b4ce",
   "metadata": {},
   "outputs": [
    {
     "data": {
      "text/plain": [
       "2"
      ]
     },
     "execution_count": 20,
     "metadata": {},
     "output_type": "execute_result"
    }
   ],
   "source": [
    "# soru:\n",
    "# cümlede kaç kelime vardır.\n",
    "\n",
    "metin.strip(\" \").count(\" \") + 1"
   ]
  },
  {
   "cell_type": "markdown",
   "id": "aed9432a-e549-4ef6-81ba-bf2e82212248",
   "metadata": {},
   "source": [
    "### split ve join "
   ]
  },
  {
   "cell_type": "code",
   "execution_count": 21,
   "id": "97aa885e-726a-4944-b8d9-00e9913bae2e",
   "metadata": {},
   "outputs": [
    {
     "data": {
      "text/plain": [
       "['MeRHaBA', 'düNYAlI']"
      ]
     },
     "execution_count": 21,
     "metadata": {},
     "output_type": "execute_result"
    }
   ],
   "source": [
    "metin.split()"
   ]
  },
  {
   "cell_type": "code",
   "execution_count": 22,
   "id": "47957917-9c2a-45d0-80d4-31c049370bf4",
   "metadata": {},
   "outputs": [
    {
     "data": {
      "text/plain": [
       "['MeRHaBA düNYAlI ']"
      ]
     },
     "execution_count": 22,
     "metadata": {},
     "output_type": "execute_result"
    }
   ],
   "source": [
    "metin.splitlines() # new line karakterine göre ayrım yapar. \\n \\r vs. 13 tane var."
   ]
  },
  {
   "cell_type": "code",
   "execution_count": 24,
   "id": "ea2539dc-e3cb-4330-ab35-556b90069636",
   "metadata": {},
   "outputs": [
    {
     "data": {
      "text/plain": [
       "'MeRHaBA'"
      ]
     },
     "execution_count": 24,
     "metadata": {},
     "output_type": "execute_result"
    }
   ],
   "source": [
    "# ör: metinin ilk kelimesini alalım.\n",
    "metin.split()[0]"
   ]
  },
  {
   "cell_type": "code",
   "execution_count": 25,
   "id": "0d7372f3-fbf2-4b1f-b172-015b24a41f25",
   "metadata": {},
   "outputs": [
    {
     "data": {
      "text/plain": [
       "'düNYAlI'"
      ]
     },
     "execution_count": 25,
     "metadata": {},
     "output_type": "execute_result"
    }
   ],
   "source": [
    "#ör: son kelimeyi alalım.\n",
    "\n",
    "son_kelime_indexi = len(metin.split())-1\n",
    "metin.split()[son_kelime_indexi]"
   ]
  },
  {
   "cell_type": "code",
   "execution_count": 26,
   "id": "181d5236-67f0-4f73-9bdd-0a8a5cd9a63e",
   "metadata": {},
   "outputs": [
    {
     "data": {
      "text/plain": [
       "'düNYAlI'"
      ]
     },
     "execution_count": 26,
     "metadata": {},
     "output_type": "execute_result"
    }
   ],
   "source": [
    "# kısa yolu\n",
    "metin.split()[-1] # sondan getir."
   ]
  },
  {
   "cell_type": "code",
   "execution_count": 27,
   "id": "eb796bb6-5177-426c-bcbe-4890b7e69b78",
   "metadata": {},
   "outputs": [
    {
     "data": {
      "text/plain": [
       "'MeRHaBA;düNYAlI'"
      ]
     },
     "execution_count": 27,
     "metadata": {},
     "output_type": "execute_result"
    }
   ],
   "source": [
    "# join container elemanları ile belirtilen karakteri birleştirip geriye str döner\n",
    "\";\".join(metin.split())"
   ]
  },
  {
   "cell_type": "markdown",
   "id": "6b112c31-439e-48aa-beec-86c0ed98ea86",
   "metadata": {},
   "source": [
    "### is... fonkdiyonları"
   ]
  },
  {
   "cell_type": "code",
   "execution_count": 28,
   "id": "26102bc1-80e4-4bfc-90a1-0f8dc35e890b",
   "metadata": {},
   "outputs": [
    {
     "data": {
      "text/plain": [
       "True"
      ]
     },
     "execution_count": 28,
     "metadata": {},
     "output_type": "execute_result"
    }
   ],
   "source": [
    "# ifadeyi komple kontrol ederler.\n",
    "\n",
    "# tam sayı mı?\n",
    "\n",
    "\"2022\".isdigit()"
   ]
  },
  {
   "cell_type": "code",
   "execution_count": 29,
   "id": "46b0fadd-81c6-4a1b-a9ea-3f9bdb7a2e13",
   "metadata": {},
   "outputs": [
    {
     "data": {
      "text/plain": [
       "False"
      ]
     },
     "execution_count": 29,
     "metadata": {},
     "output_type": "execute_result"
    }
   ],
   "source": [
    "\"-2022\".isdigit()"
   ]
  },
  {
   "cell_type": "code",
   "execution_count": 30,
   "id": "3558cc4b-8d8f-4937-9756-a11557ec9805",
   "metadata": {},
   "outputs": [
    {
     "data": {
      "text/plain": [
       "True"
      ]
     },
     "execution_count": 30,
     "metadata": {},
     "output_type": "execute_result"
    }
   ],
   "source": [
    "\" \".isspace()"
   ]
  },
  {
   "cell_type": "code",
   "execution_count": 31,
   "id": "0008413f-9d19-49c4-8428-3ac4b5e0aaec",
   "metadata": {},
   "outputs": [
    {
     "data": {
      "text/plain": [
       "True"
      ]
     },
     "execution_count": 31,
     "metadata": {},
     "output_type": "execute_result"
    }
   ],
   "source": [
    "\"2022\".isnumeric() # karakterler numaradan oluşmuş"
   ]
  },
  {
   "cell_type": "code",
   "execution_count": 32,
   "id": "abbadb93-4f02-41ff-8e46-2985d55b7190",
   "metadata": {},
   "outputs": [
    {
     "data": {
      "text/plain": [
       "True"
      ]
     },
     "execution_count": 32,
     "metadata": {},
     "output_type": "execute_result"
    }
   ],
   "source": [
    "\"metin\".isalpha() # alfabedeki karakterlerden mi?"
   ]
  },
  {
   "cell_type": "code",
   "execution_count": 33,
   "id": "c58f4a7f-1a2b-4784-a8c8-d37b16d1419d",
   "metadata": {},
   "outputs": [
    {
     "data": {
      "text/plain": [
       "True"
      ]
     },
     "execution_count": 33,
     "metadata": {},
     "output_type": "execute_result"
    }
   ],
   "source": [
    "\"one2\".isalnum() # karakter veya sayı mı?"
   ]
  },
  {
   "cell_type": "code",
   "execution_count": 34,
   "id": "e205ac32-c8fc-4970-a1d9-17e404f24123",
   "metadata": {},
   "outputs": [
    {
     "data": {
      "text/plain": [
       "False"
      ]
     },
     "execution_count": 34,
     "metadata": {},
     "output_type": "execute_result"
    }
   ],
   "source": [
    "\"pil@v\".isalnum() # @ işareti olduğu için False döner"
   ]
  },
  {
   "cell_type": "markdown",
   "id": "3c07f5bd-4b3c-449a-a67c-d843f3cb81fa",
   "metadata": {},
   "source": [
    "### Kaçış karakteri ve Özel ifadeler"
   ]
  },
  {
   "cell_type": "code",
   "execution_count": 35,
   "id": "9a140d84-8302-48a1-b25f-074bf7bab909",
   "metadata": {},
   "outputs": [
    {
     "name": "stdout",
     "output_type": "stream",
     "text": [
      "İstanbul'un taşı toprağı altındır\n"
     ]
    }
   ],
   "source": [
    "# metin yazarken \" ve ' kullanımı makul şekilde olmalıdır.\n",
    "print(\"İstanbul'un taşı toprağı altındır\")"
   ]
  },
  {
   "cell_type": "code",
   "execution_count": 36,
   "id": "ee9e647b-f4e6-4344-9cb7-3f3256633d9c",
   "metadata": {},
   "outputs": [
    {
     "name": "stdout",
     "output_type": "stream",
     "text": [
      "Bir şair: \"İstanbul'un taşı toprağı altındır.\" der.\n"
     ]
    }
   ],
   "source": [
    "print(\"Bir şair: \\\"İstanbul'un taşı toprağı altındır.\\\" der.\")"
   ]
  },
  {
   "cell_type": "code",
   "execution_count": 37,
   "id": "e73f6958-0540-45b9-abb6-e4c91f69eaaa",
   "metadata": {},
   "outputs": [
    {
     "name": "stdout",
     "output_type": "stream",
     "text": [
      "C:\n",
      "albur\n"
     ]
    }
   ],
   "source": [
    "# \\n \\r \\t ifadelerinin özel anlamları vardır.\n",
    "\n",
    "print(\"C:\\nalbur\")"
   ]
  },
  {
   "cell_type": "code",
   "execution_count": 38,
   "id": "1164e5c3-fe5d-464b-a62b-323d65ddc07f",
   "metadata": {},
   "outputs": [
    {
     "name": "stdout",
     "output_type": "stream",
     "text": [
      "C:\\nalbur\n"
     ]
    }
   ],
   "source": [
    "# nasıl çözeriz\n",
    "print(\"C:\\\\nalbur\")"
   ]
  },
  {
   "cell_type": "code",
   "execution_count": 40,
   "id": "6d898a38-6a26-4f43-b1d7-51e7d60576fa",
   "metadata": {},
   "outputs": [
    {
     "name": "stdout",
     "output_type": "stream",
     "text": [
      "C:\\nalbur\n"
     ]
    }
   ],
   "source": [
    "# raw string\n",
    "print(r\"C:\\nalbur\")"
   ]
  },
  {
   "cell_type": "code",
   "execution_count": 41,
   "id": "706ac003-1896-4a45-8f96-e3804c0ee0fd",
   "metadata": {},
   "outputs": [
    {
     "name": "stdout",
     "output_type": "stream",
     "text": [
      "'C:\\nalbur'\n"
     ]
    }
   ],
   "source": [
    "# repr fa raw string üretir.\n",
    "\n",
    "yol = \"C:\\nalbur\"\n",
    "print(repr(yol))"
   ]
  },
  {
   "cell_type": "markdown",
   "id": "bd01f87c-6bf0-495a-a0d9-450c6e126162",
   "metadata": {},
   "source": [
    "### ASCII, UNICODE"
   ]
  },
  {
   "cell_type": "code",
   "execution_count": 43,
   "id": "8e5c1089-2e8a-41bf-bc40-360b05af1ff8",
   "metadata": {},
   "outputs": [
    {
     "data": {
      "text/plain": [
       "65"
      ]
     },
     "execution_count": 43,
     "metadata": {},
     "output_type": "execute_result"
    }
   ],
   "source": [
    "ord(\"A\") #ASCII"
   ]
  },
  {
   "cell_type": "code",
   "execution_count": 44,
   "id": "a68cd346-439d-46fc-8ba8-d3717cc04616",
   "metadata": {},
   "outputs": [
    {
     "data": {
      "text/plain": [
       "32"
      ]
     },
     "execution_count": 44,
     "metadata": {},
     "output_type": "execute_result"
    }
   ],
   "source": [
    "ord(\" \")"
   ]
  },
  {
   "cell_type": "code",
   "execution_count": 45,
   "id": "365909a3-9091-4205-9683-70322cea3688",
   "metadata": {},
   "outputs": [
    {
     "data": {
      "text/plain": [
       "10"
      ]
     },
     "execution_count": 45,
     "metadata": {},
     "output_type": "execute_result"
    }
   ],
   "source": [
    "ord(\"\\n\")"
   ]
  },
  {
   "cell_type": "code",
   "execution_count": 46,
   "id": "64aa610e-43ef-4deb-9990-0b69a9f4a7f4",
   "metadata": {},
   "outputs": [
    {
     "data": {
      "text/plain": [
       "9"
      ]
     },
     "execution_count": 46,
     "metadata": {},
     "output_type": "execute_result"
    }
   ],
   "source": [
    "ord(\"\\t\")"
   ]
  },
  {
   "cell_type": "code",
   "execution_count": 47,
   "id": "39122934-e059-4d84-aab0-0b91c32b510c",
   "metadata": {},
   "outputs": [
    {
     "data": {
      "text/plain": [
       "13"
      ]
     },
     "execution_count": 47,
     "metadata": {},
     "output_type": "execute_result"
    }
   ],
   "source": [
    "ord(\"\\r\")"
   ]
  },
  {
   "cell_type": "code",
   "execution_count": 48,
   "id": "3dd46bfd-5194-46cd-bcdb-82eb31ef0292",
   "metadata": {},
   "outputs": [
    {
     "data": {
      "text/plain": [
       "'A'"
      ]
     },
     "execution_count": 48,
     "metadata": {},
     "output_type": "execute_result"
    }
   ],
   "source": [
    "chr(65)"
   ]
  },
  {
   "cell_type": "code",
   "execution_count": 49,
   "id": "9eef7578-1071-43fe-a31e-b78f7685b4a1",
   "metadata": {},
   "outputs": [
    {
     "data": {
      "text/plain": [
       "625"
      ]
     },
     "execution_count": 49,
     "metadata": {},
     "output_type": "execute_result"
    }
   ],
   "source": [
    "# unicode\n",
    "ord(\"ɱ\")"
   ]
  },
  {
   "cell_type": "code",
   "execution_count": 50,
   "id": "9b576eac-a576-4349-87db-ba651c27d0f1",
   "metadata": {},
   "outputs": [
    {
     "data": {
      "text/plain": [
       "'ɱ'"
      ]
     },
     "execution_count": 50,
     "metadata": {},
     "output_type": "execute_result"
    }
   ],
   "source": [
    "chr(625)"
   ]
  },
  {
   "cell_type": "code",
   "execution_count": 51,
   "id": "22d2ee5c-a952-4d8c-bbe8-c62756e9c30f",
   "metadata": {},
   "outputs": [
    {
     "data": {
      "text/plain": [
       "'∞'"
      ]
     },
     "execution_count": 51,
     "metadata": {},
     "output_type": "execute_result"
    }
   ],
   "source": [
    "\"\\u221E\""
   ]
  },
  {
   "cell_type": "code",
   "execution_count": 52,
   "id": "a398e32c-f4a3-495b-aca6-b4a9b57d4fe9",
   "metadata": {},
   "outputs": [
    {
     "data": {
      "text/plain": [
       "'😊'"
      ]
     },
     "execution_count": 52,
     "metadata": {},
     "output_type": "execute_result"
    }
   ],
   "source": [
    "\"\\U0001F60A\""
   ]
  },
  {
   "cell_type": "markdown",
   "id": "b3074549-e040-476e-9250-2333657f3487",
   "metadata": {},
   "source": [
    "### str formatlama"
   ]
  },
  {
   "cell_type": "code",
   "execution_count": 55,
   "id": "edc14c02-5298-4761-a863-b254c16bb006",
   "metadata": {},
   "outputs": [],
   "source": [
    "ad = \"Ragıp\"\n",
    "\n",
    "maas = 654321.49"
   ]
  },
  {
   "cell_type": "code",
   "execution_count": 56,
   "id": "c9c32cc3-ae25-4e53-ad27-dd76a9964421",
   "metadata": {},
   "outputs": [
    {
     "name": "stdout",
     "output_type": "stream",
     "text": [
      "Ad: Ragıp \n",
      "Maaş: 654321.49\n"
     ]
    }
   ],
   "source": [
    "# 1. str format\n",
    "'''\n",
    "    {} bir yer tutucudur, buraya değer gelecek demektir.\n",
    "    {indexveyaalias: formatString}\n",
    "    \n",
    "    formatString:\n",
    "    kalanBosluklaraNeYazılsın | hizamana(<^>) | KacKaraktericindeGosterilsin |binlikayrac | .basamakSayisini\n",
    "    \n",
    "    f: float\n",
    "    s: str\n",
    "'''\n",
    "\n",
    "fmt = \"Ad: {} \\nMaaş: {}\".format(ad, maas)\n",
    "print(fmt)"
   ]
  },
  {
   "cell_type": "code",
   "execution_count": 57,
   "id": "8e4bf4c1-1359-4d1d-9216-f7e544a5c50f",
   "metadata": {},
   "outputs": [
    {
     "name": "stdout",
     "output_type": "stream",
     "text": [
      "Ad: Rag \n",
      "Maaş: 654321.5\n"
     ]
    }
   ],
   "source": [
    "print(\"Ad: {:.3s} \\nMaaş: {:.1f}\".format(ad, maas))"
   ]
  },
  {
   "cell_type": "code",
   "execution_count": 58,
   "id": "b03539de-f6e1-421d-884e-a1b339fbfb87",
   "metadata": {},
   "outputs": [
    {
     "name": "stdout",
     "output_type": "stream",
     "text": [
      "Ad: Rag \n",
      "Maaş: 654,321.5\n"
     ]
    }
   ],
   "source": [
    "print(\"Ad: {:.3s} \\nMaaş: {:,.1f}\".format(ad, maas))"
   ]
  },
  {
   "cell_type": "code",
   "execution_count": 59,
   "id": "c868657e-559f-4948-ac1b-59482038cb5b",
   "metadata": {},
   "outputs": [
    {
     "name": "stdout",
     "output_type": "stream",
     "text": [
      "Ad: Rag \n",
      "Maaş:           654,321.5           \n"
     ]
    }
   ],
   "source": [
    "print(\"Ad: {:.3s} \\nMaaş: {:^30,.1f}\".format(ad, maas))"
   ]
  },
  {
   "cell_type": "code",
   "execution_count": 60,
   "id": "cda5e182-868b-46d5-85ad-b99d756e4ebe",
   "metadata": {},
   "outputs": [
    {
     "name": "stdout",
     "output_type": "stream",
     "text": [
      "Ad: Rag \n",
      "Maaş: ----------654,321.5-----------\n"
     ]
    }
   ],
   "source": [
    "print(\"Ad: {:.3s} \\nMaaş: {:-^30,.1f}\".format(ad, maas))"
   ]
  },
  {
   "cell_type": "code",
   "execution_count": 61,
   "id": "8c4378a1-a77c-4267-9852-2a05e2a36fba",
   "metadata": {},
   "outputs": [
    {
     "name": "stdout",
     "output_type": "stream",
     "text": [
      "Ad: Ragıp \n",
      "Maaş: 654321.49\n"
     ]
    }
   ],
   "source": [
    "print(\"Ad: {1} \\nMaaş: {0}\".format(maas, ad))"
   ]
  },
  {
   "cell_type": "code",
   "execution_count": 62,
   "id": "95d19e15-933f-4d8a-aa6c-687c9016701c",
   "metadata": {},
   "outputs": [
    {
     "name": "stdout",
     "output_type": "stream",
     "text": [
      "Ad: Ragıp \n",
      "Maaş: 654321.49\n"
     ]
    }
   ],
   "source": [
    "print(\"Ad: {v_ad} \\nMaaş: {v_maas}\".format(v_maas = maas, v_ad = ad))"
   ]
  },
  {
   "cell_type": "code",
   "execution_count": 63,
   "id": "bea254d8-e99a-49ed-a4bc-9615cf9b29e0",
   "metadata": {},
   "outputs": [
    {
     "name": "stdout",
     "output_type": "stream",
     "text": [
      "Ad: Ragıp \n",
      "Maaş: 654321.49\n"
     ]
    }
   ],
   "source": [
    "print(f\"Ad: {ad} \\nMaaş: {maas}\")"
   ]
  },
  {
   "cell_type": "code",
   "execution_count": 64,
   "id": "9cf3510e-16b9-4ce9-b53a-cfcd12f269e0",
   "metadata": {},
   "outputs": [
    {
     "name": "stdout",
     "output_type": "stream",
     "text": [
      "Ad: Rag \n",
      "Maaş: ----------654,321.5-----------\n"
     ]
    }
   ],
   "source": [
    "print(f\"Ad: {ad:.3s} \\nMaaş: {maas:-^30,.1f}\")"
   ]
  },
  {
   "cell_type": "code",
   "execution_count": 65,
   "id": "808af716-6248-4586-8076-b51b4ff1333f",
   "metadata": {},
   "outputs": [
    {
     "name": "stdout",
     "output_type": "stream",
     "text": [
      "Personel Adı: Ragıp \n",
      "Personel Yaşı: 35\n"
     ]
    }
   ],
   "source": [
    "# 3. format_map # dict tipinden deger ister. metin içerisine dict keyleri yerine value ları yerleştirir.\n",
    "\n",
    "dict_personel = {\"Adı\": \"Ragıp\", \"Yaşı\": 35}\n",
    "\n",
    "print(\"Personel Adı: {Adı} \\nPersonel Yaşı: {Yaşı}\".format_map(dict_personel))"
   ]
  },
  {
   "cell_type": "code",
   "execution_count": 66,
   "id": "44a0fd29-f9df-4c62-85c8-d401e3221edc",
   "metadata": {},
   "outputs": [
    {
     "name": "stdin",
     "output_type": "stream",
     "text": [
      "bir metin yazın merhaba dünyalı\n"
     ]
    },
    {
     "name": "stdout",
     "output_type": "stream",
     "text": [
      "------------------------------\n",
      "-------merhaba dünyalı--------\n",
      "------------------------------\n"
     ]
    }
   ],
   "source": [
    "# soru:\n",
    "'''\n",
    "    - metin dışarıdan alınabilsin.\n",
    "    - metni belirtilen karakter içerisinde ortalayalım. Mesela 30 olsun\n",
    "    - kalan boşlukları da - basalım\n",
    "'''\n",
    "\n",
    "metin = input(\"bir metin yazın\")\n",
    "cizgi_sayisi = 30\n",
    "\n",
    "#1. yöntem\n",
    "\n",
    "print(\"-\"*cizgi_sayisi)\n",
    "print(metin.center(cizgi_sayisi, \"-\"))\n",
    "print(\"-\"*cizgi_sayisi)"
   ]
  },
  {
   "cell_type": "code",
   "execution_count": 67,
   "id": "5e924f50-e7bd-4c63-8c8c-d022ce4e4f79",
   "metadata": {},
   "outputs": [
    {
     "name": "stdout",
     "output_type": "stream",
     "text": [
      "-------merhaba dünyalı--------\n"
     ]
    }
   ],
   "source": [
    "# 2. yöntem\n",
    "fmt = f\"{metin:-^{cizgi_sayisi}}\"\n",
    "\n",
    "print(fmt)"
   ]
  },
  {
   "cell_type": "code",
   "execution_count": null,
   "id": "6842bb62-7c65-4a81-be6d-883ba5da82b1",
   "metadata": {},
   "outputs": [],
   "source": []
  }
 ],
 "metadata": {
  "kernelspec": {
   "display_name": "Python 3 (ipykernel)",
   "language": "python",
   "name": "python3"
  },
  "language_info": {
   "codemirror_mode": {
    "name": "ipython",
    "version": 3
   },
   "file_extension": ".py",
   "mimetype": "text/x-python",
   "name": "python",
   "nbconvert_exporter": "python",
   "pygments_lexer": "ipython3",
   "version": "3.10.8"
  }
 },
 "nbformat": 4,
 "nbformat_minor": 5
}
