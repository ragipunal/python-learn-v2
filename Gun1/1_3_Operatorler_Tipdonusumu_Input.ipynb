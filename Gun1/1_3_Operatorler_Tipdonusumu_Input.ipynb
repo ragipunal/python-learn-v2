{
 "cells": [
  {
   "cell_type": "markdown",
   "id": "a4ec88e8-12cd-4ba6-b405-fbb88a1560d2",
   "metadata": {},
   "source": [
    "## Operatorler\n",
    "![Operatorler](Operatorler.png)"
   ]
  },
  {
   "cell_type": "markdown",
   "id": "a65c0266-1a3d-4e49-8a35-177ce5476607",
   "metadata": {},
   "source": [
    "### Artimatik"
   ]
  },
  {
   "cell_type": "code",
   "execution_count": 1,
   "id": "9a00df45-85fb-4e3f-bea4-7518e4a8c1a3",
   "metadata": {},
   "outputs": [
    {
     "data": {
      "text/plain": [
       "6.0"
      ]
     },
     "execution_count": 1,
     "metadata": {},
     "output_type": "execute_result"
    }
   ],
   "source": [
    "4/2*3 # çarpma bölme arasında işlem öncelikiği yok, soldan sağa işlem yapar. "
   ]
  },
  {
   "cell_type": "code",
   "execution_count": 2,
   "id": "ca1fdc73-7324-4459-9c77-5f31c80d620b",
   "metadata": {},
   "outputs": [
    {
     "data": {
      "text/plain": [
       "0.6666666666666666"
      ]
     },
     "execution_count": 2,
     "metadata": {},
     "output_type": "execute_result"
    }
   ],
   "source": [
    "4/(2*3) # işlem önceliğini kendimiz belirleriz."
   ]
  },
  {
   "cell_type": "code",
   "execution_count": 3,
   "id": "b8fdd144-7f24-4bea-9e54-26532e7243f2",
   "metadata": {},
   "outputs": [
    {
     "data": {
      "text/plain": [
       "15.0"
      ]
     },
     "execution_count": 3,
     "metadata": {},
     "output_type": "execute_result"
    }
   ],
   "source": [
    "8/2*(2+2)-1 # önce parantez içi hesaplandı, sonra +,- sırası. soldan sağa işlem yapıldı."
   ]
  },
  {
   "cell_type": "code",
   "execution_count": 4,
   "id": "a11773b8-9033-4768-8668-becfc235e244",
   "metadata": {},
   "outputs": [
    {
     "name": "stdout",
     "output_type": "stream",
     "text": [
      "hakediş:  3500.0\n"
     ]
    }
   ],
   "source": [
    "# soru:\n",
    "'''\n",
    "Haftalık çalışma saati verilen bir kişinin hakedişini hesaplayalım.\n",
    "- min 40 saat çalıştığı varsayılsın.\n",
    "- 40 saat üzeri çalışırsa saatlik ücretin 1.5 katı ödensin\n",
    "- saatlik ücreti değiştirilebilir olsun\n",
    "'''\n",
    "toplam_calisma_saati = 60\n",
    "saatlik_ucret = 50\n",
    "\n",
    "#\n",
    "hakedis = 40*saatlik_ucret + (toplam_calisma_saati-40)*(saatlik_ucret*1.5)\n",
    "\n",
    "#\n",
    "print(\"hakediş: \", hakedis)"
   ]
  },
  {
   "cell_type": "code",
   "execution_count": 6,
   "id": "ef658de3-524e-4ba7-84f3-1d1722df65c9",
   "metadata": {},
   "outputs": [
    {
     "name": "stdout",
     "output_type": "stream",
     "text": [
      "bebeğiniz doğalı 4 yil 8 ay olmuştur.\n"
     ]
    }
   ],
   "source": [
    "# soru:\n",
    "'''\n",
    "Ay olarak yaşı verilen bebeğin yıl ve ay olarak yaşını yazdıralım.\n",
    "56 aylık bir bebek ... yıl ... ay olmuş.\n",
    "\n",
    "bebeğiniz doğalı ... yıl ... ay olmuştur. şeklinde ekrana yazdıralım.\n",
    "'''\n",
    "\n",
    "kac_aylik = 56\n",
    "\n",
    "yil = kac_aylik // 12\n",
    "ay = kac_aylik % 12\n",
    "\n",
    "print(\"bebeğiniz doğalı\", yil, \"yil\", ay, \"ay olmuştur.\")"
   ]
  },
  {
   "cell_type": "code",
   "execution_count": 7,
   "id": "f238d234-b0d1-4556-944f-440b9d5d0a45",
   "metadata": {},
   "outputs": [
    {
     "name": "stdout",
     "output_type": "stream",
     "text": [
      "hipotenüs:  17.0\n"
     ]
    }
   ],
   "source": [
    "# soru:\n",
    "\n",
    "\"\"\"\n",
    "iki dik kenarı verilen üçgenin hipotenüsünü hesaplayalım\n",
    "\n",
    "h^2 = x^2 + y^2\n",
    "\"\"\"\n",
    "x = 8\n",
    "y = 15\n",
    "\n",
    "h = (x**2 + y**2)**0.5 # pow, math.pow, math.sqrt\n",
    "\n",
    "print(\"hipotenüs: \", h)"
   ]
  },
  {
   "cell_type": "markdown",
   "id": "d0ade2d8-d11f-433a-8050-f75d794d2f46",
   "metadata": {},
   "source": [
    "### Atama"
   ]
  },
  {
   "cell_type": "code",
   "execution_count": 8,
   "id": "07afb337-2b6e-4985-8d6c-d3332d5ee3ba",
   "metadata": {},
   "outputs": [
    {
     "name": "stdout",
     "output_type": "stream",
     "text": [
      "1 2 3\n"
     ]
    }
   ],
   "source": [
    "# Klasik Atama\n",
    "x = 1\n",
    "\n",
    "# Zincir Atama\n",
    "x = y = 1\n",
    "\n",
    "# unpacking (deger ve değişken deseni aynı ise değerler değişkene atanır)\n",
    "x,y,z = 1,2,3\n",
    "\n",
    "print(x,y,z)"
   ]
  },
  {
   "cell_type": "code",
   "execution_count": 10,
   "id": "96ea3268-056d-4a42-a2a5-3dca077caf04",
   "metadata": {},
   "outputs": [
    {
     "data": {
      "text/plain": [
       "2"
      ]
     },
     "execution_count": 10,
     "metadata": {},
     "output_type": "execute_result"
    }
   ],
   "source": [
    "# cumulative işlemler\n",
    "\n",
    "x = 1\n",
    "\n",
    "# x = x + 1\n",
    "\n",
    "x += 1\n",
    "\n",
    "x"
   ]
  },
  {
   "cell_type": "markdown",
   "id": "677c1390-9d84-488f-87f1-2978e83cd4da",
   "metadata": {},
   "source": [
    "### Karşılaştırma\n",
    "\n",
    "- True / False döner"
   ]
  },
  {
   "cell_type": "code",
   "execution_count": 11,
   "id": "24126347-44ba-48a3-9972-e97dc53b0876",
   "metadata": {},
   "outputs": [
    {
     "data": {
      "text/plain": [
       "False"
      ]
     },
     "execution_count": 11,
     "metadata": {},
     "output_type": "execute_result"
    }
   ],
   "source": [
    "# ör: x sayısı çift midir?\n",
    "\n",
    "x = 5\n",
    "\n",
    "x % 2 == 0"
   ]
  },
  {
   "cell_type": "markdown",
   "id": "d21221f4-b3f4-4099-b7dc-592218506df2",
   "metadata": {},
   "source": [
    "### Mantıksal\n",
    "\n",
    "- `and`: her iki yanındaki ifade True üretiyorsa sonuç True olur.\n",
    "- `or`: herhangi bir tarftaki ifade True üretirse sonuç True olur.\n",
    "- `not(şart)`: şarttan dönen mantıksal sonucun tersini verir."
   ]
  },
  {
   "cell_type": "code",
   "execution_count": 12,
   "id": "c4c90615-81e8-4d23-bbb8-d33b9994f8f2",
   "metadata": {},
   "outputs": [
    {
     "data": {
      "text/plain": [
       "True"
      ]
     },
     "execution_count": 12,
     "metadata": {},
     "output_type": "execute_result"
    }
   ],
   "source": [
    "#ör: girilen değer 2 ve 3 e tam bölünür mü?\n",
    "\n",
    "x = 12\n",
    "\n",
    "x%2 == 0 and x%3 == 0"
   ]
  },
  {
   "cell_type": "markdown",
   "id": "a873ef4b-0cb1-4292-b209-c876ba3f1b8e",
   "metadata": {},
   "source": [
    "### Üyelik\n",
    "\n",
    "- `in`: bu nesne konteyner içerisinde var mı demek\n",
    "- `no in`: yok mu?"
   ]
  },
  {
   "cell_type": "code",
   "execution_count": 13,
   "id": "2275d0ed-ac38-431f-94cc-c871b732e15e",
   "metadata": {},
   "outputs": [
    {
     "data": {
      "text/plain": [
       "True"
      ]
     },
     "execution_count": 13,
     "metadata": {},
     "output_type": "execute_result"
    }
   ],
   "source": [
    "\"m\" in \"metin\" # m harfi metin içerisinde var mı? str bir container tiptir."
   ]
  },
  {
   "cell_type": "code",
   "execution_count": 14,
   "id": "0409ae5c-a0b2-4a26-80f2-dcba39387a75",
   "metadata": {},
   "outputs": [
    {
     "data": {
      "text/plain": [
       "False"
      ]
     },
     "execution_count": 14,
     "metadata": {},
     "output_type": "execute_result"
    }
   ],
   "source": [
    "100 in [1,2,3,4]"
   ]
  },
  {
   "cell_type": "code",
   "execution_count": 15,
   "id": "b96287b2-ba35-4b03-9c67-caf5127b2ea6",
   "metadata": {},
   "outputs": [
    {
     "data": {
      "text/plain": [
       "list"
      ]
     },
     "execution_count": 15,
     "metadata": {},
     "output_type": "execute_result"
    }
   ],
   "source": [
    "# soru:\n",
    "\"\"\"\n",
    "    sqrt fonk. __builtins__ nesneler içerisinde yani gümülü nesneler içerisinde var mı?\n",
    "\"\"\"\n",
    "\n",
    "type(dir(__builtins__))"
   ]
  },
  {
   "cell_type": "code",
   "execution_count": 16,
   "id": "09ffd499-2004-4d5f-9bc9-0afbd07540a6",
   "metadata": {},
   "outputs": [
    {
     "name": "stdout",
     "output_type": "stream",
     "text": [
      "['ArithmeticError', 'AssertionError', 'AttributeError', 'BaseException', 'BlockingIOError', 'BrokenPipeError', 'BufferError', 'BytesWarning', 'ChildProcessError', 'ConnectionAbortedError', 'ConnectionError', 'ConnectionRefusedError', 'ConnectionResetError', 'DeprecationWarning', 'EOFError', 'Ellipsis', 'EncodingWarning', 'EnvironmentError', 'Exception', 'False', 'FileExistsError', 'FileNotFoundError', 'FloatingPointError', 'FutureWarning', 'GeneratorExit', 'IOError', 'ImportError', 'ImportWarning', 'IndentationError', 'IndexError', 'InterruptedError', 'IsADirectoryError', 'KeyError', 'KeyboardInterrupt', 'LookupError', 'MemoryError', 'ModuleNotFoundError', 'NameError', 'None', 'NotADirectoryError', 'NotImplemented', 'NotImplementedError', 'OSError', 'OverflowError', 'PendingDeprecationWarning', 'PermissionError', 'ProcessLookupError', 'RecursionError', 'ReferenceError', 'ResourceWarning', 'RuntimeError', 'RuntimeWarning', 'StopAsyncIteration', 'StopIteration', 'SyntaxError', 'SyntaxWarning', 'SystemError', 'SystemExit', 'TabError', 'TimeoutError', 'True', 'TypeError', 'UnboundLocalError', 'UnicodeDecodeError', 'UnicodeEncodeError', 'UnicodeError', 'UnicodeTranslateError', 'UnicodeWarning', 'UserWarning', 'ValueError', 'Warning', 'ZeroDivisionError', '__IPYTHON__', '__build_class__', '__debug__', '__doc__', '__import__', '__loader__', '__name__', '__package__', '__spec__', 'abs', 'aiter', 'all', 'anext', 'any', 'ascii', 'bin', 'bool', 'breakpoint', 'bytearray', 'bytes', 'callable', 'chr', 'classmethod', 'compile', 'complex', 'copyright', 'credits', 'delattr', 'dict', 'dir', 'display', 'divmod', 'enumerate', 'eval', 'exec', 'execfile', 'filter', 'float', 'format', 'frozenset', 'get_ipython', 'getattr', 'globals', 'hasattr', 'hash', 'help', 'hex', 'id', 'input', 'int', 'isinstance', 'issubclass', 'iter', 'len', 'license', 'list', 'locals', 'map', 'max', 'memoryview', 'min', 'next', 'object', 'oct', 'open', 'ord', 'pow', 'print', 'property', 'range', 'repr', 'reversed', 'round', 'runfile', 'set', 'setattr', 'slice', 'sorted', 'staticmethod', 'str', 'sum', 'super', 'tuple', 'type', 'vars', 'zip']\n"
     ]
    }
   ],
   "source": [
    "print(dir(__builtins__))"
   ]
  },
  {
   "cell_type": "code",
   "execution_count": 17,
   "id": "4af7fdf4-4083-4c94-a60b-31f9b340292a",
   "metadata": {},
   "outputs": [
    {
     "data": {
      "text/plain": [
       "False"
      ]
     },
     "execution_count": 17,
     "metadata": {},
     "output_type": "execute_result"
    }
   ],
   "source": [
    "\"sqrt\" in dir(__builtins__) # var mı?"
   ]
  },
  {
   "cell_type": "markdown",
   "id": "0164f24a-5a84-4483-bdcc-0fe0d9c502a6",
   "metadata": {},
   "source": [
    "### Tip Dönüşümü\n",
    "\n",
    "![Tip Dönüşümü](TipDonusu.png)"
   ]
  },
  {
   "cell_type": "code",
   "execution_count": 19,
   "id": "628b404e-fea2-47dd-aadf-a8da63b88079",
   "metadata": {},
   "outputs": [
    {
     "data": {
      "text/plain": [
       "2.23"
      ]
     },
     "execution_count": 19,
     "metadata": {},
     "output_type": "execute_result"
    }
   ],
   "source": [
    "# implicit\n",
    "1 + 1.23 # int + float = float"
   ]
  },
  {
   "cell_type": "code",
   "execution_count": 20,
   "id": "3ad5b6da-232b-4e04-a95e-3adf71b9b8d6",
   "metadata": {},
   "outputs": [
    {
     "ename": "TypeError",
     "evalue": "unsupported operand type(s) for +: 'int' and 'str'",
     "output_type": "error",
     "traceback": [
      "\u001b[0;31m---------------------------------------------------------------------------\u001b[0m",
      "\u001b[0;31mTypeError\u001b[0m                                 Traceback (most recent call last)",
      "Cell \u001b[0;32mIn [20], line 2\u001b[0m\n\u001b[1;32m      1\u001b[0m \u001b[38;5;66;03m#explicit\u001b[39;00m\n\u001b[0;32m----> 2\u001b[0m \u001b[38;5;241;43m1\u001b[39;49m\u001b[43m \u001b[49m\u001b[38;5;241;43m+\u001b[39;49m\u001b[43m \u001b[49m\u001b[38;5;124;43m\"\u001b[39;49m\u001b[38;5;124;43m Kişi\u001b[39;49m\u001b[38;5;124;43m\"\u001b[39;49m\n",
      "\u001b[0;31mTypeError\u001b[0m: unsupported operand type(s) for +: 'int' and 'str'"
     ]
    }
   ],
   "source": [
    "#explicit\n",
    "1 + \" Kişi\""
   ]
  },
  {
   "cell_type": "code",
   "execution_count": 21,
   "id": "84bbdb93-f765-428b-84da-13a630b2db67",
   "metadata": {},
   "outputs": [
    {
     "data": {
      "text/plain": [
       "'1 Kişi'"
      ]
     },
     "execution_count": 21,
     "metadata": {},
     "output_type": "execute_result"
    }
   ],
   "source": [
    "str(1) + \" Kişi\""
   ]
  },
  {
   "cell_type": "code",
   "execution_count": 22,
   "id": "97c2638f-bf93-4c5f-a30e-a5b3eb48b5ad",
   "metadata": {},
   "outputs": [
    {
     "data": {
      "text/plain": [
       "7"
      ]
     },
     "execution_count": 22,
     "metadata": {},
     "output_type": "execute_result"
    }
   ],
   "source": [
    "# explicit dönüşümler mantıklı olmak zorunda\n",
    "int(\"7\")"
   ]
  },
  {
   "cell_type": "code",
   "execution_count": 23,
   "id": "4a2c2e62-3ae5-4a72-9fd2-90d64b5714c9",
   "metadata": {},
   "outputs": [
    {
     "ename": "ValueError",
     "evalue": "invalid literal for int() with base 10: 'yedi'",
     "output_type": "error",
     "traceback": [
      "\u001b[0;31m---------------------------------------------------------------------------\u001b[0m",
      "\u001b[0;31mValueError\u001b[0m                                Traceback (most recent call last)",
      "Cell \u001b[0;32mIn [23], line 1\u001b[0m\n\u001b[0;32m----> 1\u001b[0m \u001b[38;5;28;43mint\u001b[39;49m\u001b[43m(\u001b[49m\u001b[38;5;124;43m\"\u001b[39;49m\u001b[38;5;124;43myedi\u001b[39;49m\u001b[38;5;124;43m\"\u001b[39;49m\u001b[43m)\u001b[49m\n",
      "\u001b[0;31mValueError\u001b[0m: invalid literal for int() with base 10: 'yedi'"
     ]
    }
   ],
   "source": [
    "int(\"yedi\")"
   ]
  },
  {
   "cell_type": "markdown",
   "id": "43c599a7-8e49-4a1f-9e59-2e6677f550ef",
   "metadata": {},
   "source": [
    "### tuple, list, set dönüşümü\n",
    "\n",
    "- container elemanları diğer tipin elemanları haline gelir."
   ]
  },
  {
   "cell_type": "code",
   "execution_count": 24,
   "id": "9ae5c5b1-559a-44c9-8b92-7ddcc096888b",
   "metadata": {},
   "outputs": [
    {
     "data": {
      "text/plain": [
       "('m', 'e', 'r', 'h', 'a', 'b', 'a')"
      ]
     },
     "execution_count": 24,
     "metadata": {},
     "output_type": "execute_result"
    }
   ],
   "source": [
    "metin = \"merhaba\" # str container tipidir.\n",
    "\n",
    "tuple(metin)"
   ]
  },
  {
   "cell_type": "code",
   "execution_count": 25,
   "id": "37784435-8a7d-4663-b38e-91a1556a6d17",
   "metadata": {},
   "outputs": [
    {
     "data": {
      "text/plain": [
       "['m', 'e', 'r', 'h', 'a', 'b', 'a']"
      ]
     },
     "execution_count": 25,
     "metadata": {},
     "output_type": "execute_result"
    }
   ],
   "source": [
    "list(metin)"
   ]
  },
  {
   "cell_type": "code",
   "execution_count": 26,
   "id": "3c6db7f9-e888-4cfc-a925-6186d36ca754",
   "metadata": {},
   "outputs": [
    {
     "data": {
      "text/plain": [
       "{'a', 'b', 'e', 'h', 'm', 'r'}"
      ]
     },
     "execution_count": 26,
     "metadata": {},
     "output_type": "execute_result"
    }
   ],
   "source": [
    "set(metin)"
   ]
  },
  {
   "cell_type": "markdown",
   "id": "65b6b691-5f19-494b-b852-58de654556ca",
   "metadata": {},
   "source": [
    "### kullanıcıdan değer almak için input kullanırız\n",
    "\n",
    "- kullanıcıdan gelen değer her zaman str dir.\n",
    "- bu değeri kullanamadan önce tip dönüşümü yapmak gerekir."
   ]
  },
  {
   "cell_type": "code",
   "execution_count": 28,
   "id": "771cc96a-3b92-4e1d-bbb9-a8c12d37e12c",
   "metadata": {},
   "outputs": [
    {
     "name": "stdin",
     "output_type": "stream",
     "text": [
      "1. sayıyı girin:  12\n",
      "2. sayıyı girin:  34\n"
     ]
    },
    {
     "name": "stdout",
     "output_type": "stream",
     "text": [
      "1234\n",
      "46.0\n"
     ]
    }
   ],
   "source": [
    "s1 = input(\"1. sayıyı girin: \")\n",
    "s2 = input(\"2. sayıyı girin: \")\n",
    "\n",
    "print(s1+s2)\n",
    "\n",
    "s1 = float(s1)\n",
    "s2 = float(s2)\n",
    "\n",
    "print(s1+s2)"
   ]
  },
  {
   "cell_type": "code",
   "execution_count": null,
   "id": "d5842215-2172-4668-9868-49f662190e69",
   "metadata": {},
   "outputs": [],
   "source": []
  }
 ],
 "metadata": {
  "kernelspec": {
   "display_name": "Python 3 (ipykernel)",
   "language": "python",
   "name": "python3"
  },
  "language_info": {
   "codemirror_mode": {
    "name": "ipython",
    "version": 3
   },
   "file_extension": ".py",
   "mimetype": "text/x-python",
   "name": "python",
   "nbconvert_exporter": "python",
   "pygments_lexer": "ipython3",
   "version": "3.10.8"
  }
 },
 "nbformat": 4,
 "nbformat_minor": 5
}
