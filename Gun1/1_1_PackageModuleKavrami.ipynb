{
 "cells": [
  {
   "cell_type": "markdown",
   "id": "5f7e1157-3f4b-46bc-b96b-73562d078e07",
   "metadata": {},
   "source": [
    "# Python Dili Temelleri\n",
    "\n",
    "## Package - Module Kavramları\n",
    "\n",
    "### Gömülü Nesneler"
   ]
  },
  {
   "cell_type": "code",
   "execution_count": 2,
   "id": "17080c16-328b-4264-b7b7-8859636f7185",
   "metadata": {},
   "outputs": [
    {
     "name": "stdout",
     "output_type": "stream",
     "text": [
      "merhaba\n"
     ]
    },
    {
     "data": {
      "text/plain": [
       "['ArithmeticError',\n",
       " 'AssertionError',\n",
       " 'AttributeError',\n",
       " 'BaseException',\n",
       " 'BlockingIOError',\n",
       " 'BrokenPipeError',\n",
       " 'BufferError',\n",
       " 'BytesWarning',\n",
       " 'ChildProcessError',\n",
       " 'ConnectionAbortedError',\n",
       " 'ConnectionError',\n",
       " 'ConnectionRefusedError',\n",
       " 'ConnectionResetError',\n",
       " 'DeprecationWarning',\n",
       " 'EOFError',\n",
       " 'Ellipsis',\n",
       " 'EncodingWarning',\n",
       " 'EnvironmentError',\n",
       " 'Exception',\n",
       " 'False',\n",
       " 'FileExistsError',\n",
       " 'FileNotFoundError',\n",
       " 'FloatingPointError',\n",
       " 'FutureWarning',\n",
       " 'GeneratorExit',\n",
       " 'IOError',\n",
       " 'ImportError',\n",
       " 'ImportWarning',\n",
       " 'IndentationError',\n",
       " 'IndexError',\n",
       " 'InterruptedError',\n",
       " 'IsADirectoryError',\n",
       " 'KeyError',\n",
       " 'KeyboardInterrupt',\n",
       " 'LookupError',\n",
       " 'MemoryError',\n",
       " 'ModuleNotFoundError',\n",
       " 'NameError',\n",
       " 'None',\n",
       " 'NotADirectoryError',\n",
       " 'NotImplemented',\n",
       " 'NotImplementedError',\n",
       " 'OSError',\n",
       " 'OverflowError',\n",
       " 'PendingDeprecationWarning',\n",
       " 'PermissionError',\n",
       " 'ProcessLookupError',\n",
       " 'RecursionError',\n",
       " 'ReferenceError',\n",
       " 'ResourceWarning',\n",
       " 'RuntimeError',\n",
       " 'RuntimeWarning',\n",
       " 'StopAsyncIteration',\n",
       " 'StopIteration',\n",
       " 'SyntaxError',\n",
       " 'SyntaxWarning',\n",
       " 'SystemError',\n",
       " 'SystemExit',\n",
       " 'TabError',\n",
       " 'TimeoutError',\n",
       " 'True',\n",
       " 'TypeError',\n",
       " 'UnboundLocalError',\n",
       " 'UnicodeDecodeError',\n",
       " 'UnicodeEncodeError',\n",
       " 'UnicodeError',\n",
       " 'UnicodeTranslateError',\n",
       " 'UnicodeWarning',\n",
       " 'UserWarning',\n",
       " 'ValueError',\n",
       " 'Warning',\n",
       " 'ZeroDivisionError',\n",
       " '__IPYTHON__',\n",
       " '__build_class__',\n",
       " '__debug__',\n",
       " '__doc__',\n",
       " '__import__',\n",
       " '__loader__',\n",
       " '__name__',\n",
       " '__package__',\n",
       " '__spec__',\n",
       " 'abs',\n",
       " 'aiter',\n",
       " 'all',\n",
       " 'anext',\n",
       " 'any',\n",
       " 'ascii',\n",
       " 'bin',\n",
       " 'bool',\n",
       " 'breakpoint',\n",
       " 'bytearray',\n",
       " 'bytes',\n",
       " 'callable',\n",
       " 'chr',\n",
       " 'classmethod',\n",
       " 'compile',\n",
       " 'complex',\n",
       " 'copyright',\n",
       " 'credits',\n",
       " 'delattr',\n",
       " 'dict',\n",
       " 'dir',\n",
       " 'display',\n",
       " 'divmod',\n",
       " 'enumerate',\n",
       " 'eval',\n",
       " 'exec',\n",
       " 'execfile',\n",
       " 'filter',\n",
       " 'float',\n",
       " 'format',\n",
       " 'frozenset',\n",
       " 'get_ipython',\n",
       " 'getattr',\n",
       " 'globals',\n",
       " 'hasattr',\n",
       " 'hash',\n",
       " 'help',\n",
       " 'hex',\n",
       " 'id',\n",
       " 'input',\n",
       " 'int',\n",
       " 'isinstance',\n",
       " 'issubclass',\n",
       " 'iter',\n",
       " 'len',\n",
       " 'license',\n",
       " 'list',\n",
       " 'locals',\n",
       " 'map',\n",
       " 'max',\n",
       " 'memoryview',\n",
       " 'min',\n",
       " 'next',\n",
       " 'object',\n",
       " 'oct',\n",
       " 'open',\n",
       " 'ord',\n",
       " 'pow',\n",
       " 'print',\n",
       " 'property',\n",
       " 'range',\n",
       " 'repr',\n",
       " 'reversed',\n",
       " 'round',\n",
       " 'runfile',\n",
       " 'set',\n",
       " 'setattr',\n",
       " 'slice',\n",
       " 'sorted',\n",
       " 'staticmethod',\n",
       " 'str',\n",
       " 'sum',\n",
       " 'super',\n",
       " 'tuple',\n",
       " 'type',\n",
       " 'vars',\n",
       " 'zip']"
      ]
     },
     "execution_count": 2,
     "metadata": {},
     "output_type": "execute_result"
    }
   ],
   "source": [
    "print(\"merhaba\")\n",
    "\n",
    "# hiç bir paketi ortama almadan çalışmamızı sağlayan nesneler var.\n",
    "# bunlara gömülü nesneler diyoruz. __builtins__ # çift alt çicgi var.\n",
    "\n",
    "# dir verdiğimiz nesnin attributelerini görmemizi sağlar.\n",
    "\n",
    "dir(__builtins__) # gömülü nesnelerin listesi\n",
    "# print, dir, exit, help, pow, int, float vs. paket yüklemeden doğrudan kullanabileceğimiz nesneler"
   ]
  },
  {
   "cell_type": "code",
   "execution_count": 3,
   "id": "a36730da-10f8-4c59-91a9-92ce9985d0f8",
   "metadata": {},
   "outputs": [
    {
     "data": {
      "text/plain": [
       "9"
      ]
     },
     "execution_count": 3,
     "metadata": {},
     "output_type": "execute_result"
    }
   ],
   "source": [
    "pow(3,2) # 3 ün karesini veren gömülü nesne"
   ]
  },
  {
   "cell_type": "markdown",
   "id": "c424dc82-9dd6-4dcb-b778-68e06094fb11",
   "metadata": {},
   "source": [
    "### Bilgisayarda yüklü olan paketi çalışma ortamına alalım"
   ]
  },
  {
   "cell_type": "code",
   "execution_count": 4,
   "id": "a7f3893a-95c1-4389-a3be-b0a54d4ab7ec",
   "metadata": {},
   "outputs": [
    {
     "name": "stdout",
     "output_type": "stream",
     "text": [
      "3.141592653589793\n"
     ]
    }
   ],
   "source": [
    "import math # marh paketini çalışma ortamına aldık.\n",
    "\n",
    "print(math.pi) # ekrana bir şey yazarız"
   ]
  },
  {
   "cell_type": "code",
   "execution_count": 5,
   "id": "98ac84ed-ece1-4720-ad47-408b5eb105d9",
   "metadata": {},
   "outputs": [
    {
     "data": {
      "text/plain": [
       "['__doc__',\n",
       " '__file__',\n",
       " '__loader__',\n",
       " '__name__',\n",
       " '__package__',\n",
       " '__spec__',\n",
       " 'acos',\n",
       " 'acosh',\n",
       " 'asin',\n",
       " 'asinh',\n",
       " 'atan',\n",
       " 'atan2',\n",
       " 'atanh',\n",
       " 'ceil',\n",
       " 'comb',\n",
       " 'copysign',\n",
       " 'cos',\n",
       " 'cosh',\n",
       " 'degrees',\n",
       " 'dist',\n",
       " 'e',\n",
       " 'erf',\n",
       " 'erfc',\n",
       " 'exp',\n",
       " 'expm1',\n",
       " 'fabs',\n",
       " 'factorial',\n",
       " 'floor',\n",
       " 'fmod',\n",
       " 'frexp',\n",
       " 'fsum',\n",
       " 'gamma',\n",
       " 'gcd',\n",
       " 'hypot',\n",
       " 'inf',\n",
       " 'isclose',\n",
       " 'isfinite',\n",
       " 'isinf',\n",
       " 'isnan',\n",
       " 'isqrt',\n",
       " 'lcm',\n",
       " 'ldexp',\n",
       " 'lgamma',\n",
       " 'log',\n",
       " 'log10',\n",
       " 'log1p',\n",
       " 'log2',\n",
       " 'modf',\n",
       " 'nan',\n",
       " 'nextafter',\n",
       " 'perm',\n",
       " 'pi',\n",
       " 'pow',\n",
       " 'prod',\n",
       " 'radians',\n",
       " 'remainder',\n",
       " 'sin',\n",
       " 'sinh',\n",
       " 'sqrt',\n",
       " 'tan',\n",
       " 'tanh',\n",
       " 'tau',\n",
       " 'trunc',\n",
       " 'ulp']"
      ]
     },
     "execution_count": 5,
     "metadata": {},
     "output_type": "execute_result"
    }
   ],
   "source": [
    "dir(math)"
   ]
  },
  {
   "cell_type": "code",
   "execution_count": 6,
   "id": "98d1d95f-4ef3-423e-96d1-192018634a71",
   "metadata": {},
   "outputs": [],
   "source": [
    "import os # işletim sistemi ile ilişkili işleri yapabileceğiz.\n",
    "\n",
    "dir(os)\n",
    "\n",
    "os.mkdir(\"BuKlasoruGordugundeSil\") # kalsör oluşturur"
   ]
  },
  {
   "cell_type": "code",
   "execution_count": 7,
   "id": "d04b9fff-70da-4df4-b81d-482c24818a41",
   "metadata": {},
   "outputs": [
    {
     "data": {
      "text/plain": [
       "'/Users/ragipunal/workdata/gitrepos/python/python-learn-v2'"
      ]
     },
     "execution_count": 7,
     "metadata": {},
     "output_type": "execute_result"
    }
   ],
   "source": [
    "os.getcwd() # çalışma yolunu göster"
   ]
  },
  {
   "cell_type": "code",
   "execution_count": 8,
   "id": "d7784160-4eff-4371-9704-d21cfe02bd6e",
   "metadata": {},
   "outputs": [],
   "source": [
    "# Windows da yapmış olsaydınız\n",
    "# 'C:\\\\Users\\\\Ragip\\\\Desktop\\\\python-egitimi'"
   ]
  },
  {
   "cell_type": "markdown",
   "id": "deaf1cf3-399e-4783-9558-85fcdf631172",
   "metadata": {},
   "source": [
    "### Shell komutlarını ! ile notebook içerisinde çalıştırabilirsiniz"
   ]
  },
  {
   "cell_type": "code",
   "execution_count": 9,
   "id": "1b1ac4d6-5bb1-4cfd-8089-cfab96aa7466",
   "metadata": {},
   "outputs": [],
   "source": [
    "!cd"
   ]
  },
  {
   "cell_type": "code",
   "execution_count": 10,
   "id": "ec0e27b2-af84-4d9a-a6b7-aa41118440e9",
   "metadata": {},
   "outputs": [],
   "source": [
    "!mkdir gordugundesil2"
   ]
  },
  {
   "cell_type": "markdown",
   "id": "d081bdb3-7538-471a-b1f9-bf32f9039387",
   "metadata": {},
   "source": [
    "### Paket İndirmek ve Ortama Almak\n",
    "* paket **indirmek** için `pip install paketAdi` (tek tırnağı <kbd>AltGr</kbd> + <kbd>;</kbd> ile yapabilrisiniz.\n",
    "* paket **silmek** için `pip uninstall paketAdi`\n",
    "* yüklü paketleri **listelemek** için `pip list`\n",
    "* bir paket hakkında **bilgi almak** için  `pip show paketAdi`\n",
    "\n",
    "**Not:** ! ile shell komutlarını notebook içerisinde çalıştırabilirsiniz. vfakat paket yüklemek istersek bunu kullanmayalım. terminali açıp doğrudan terminal üzerinden  paketleri yükleyelim. paket yüklerken oluşan loglar çalışma alanını dolduracaktır"
   ]
  },
  {
   "cell_type": "code",
   "execution_count": null,
   "id": "5ddbf54a-59a6-4ce3-b0d6-db62054f509c",
   "metadata": {},
   "outputs": [],
   "source": [
    "# çalışma ortamına paket indirelim.\n",
    "!pip install emoji"
   ]
  },
  {
   "cell_type": "code",
   "execution_count": 2,
   "id": "448a4a17-950a-4c20-ae85-c68d4e421066",
   "metadata": {},
   "outputs": [
    {
     "data": {
      "text/plain": [
       "['EMOJI_DATA',\n",
       " 'LANGUAGES',\n",
       " 'STATUS',\n",
       " '__all__',\n",
       " '__author__',\n",
       " '__builtins__',\n",
       " '__cached__',\n",
       " '__doc__',\n",
       " '__email__',\n",
       " '__file__',\n",
       " '__license__',\n",
       " '__loader__',\n",
       " '__name__',\n",
       " '__package__',\n",
       " '__path__',\n",
       " '__source__',\n",
       " '__spec__',\n",
       " '__version__',\n",
       " 'core',\n",
       " 'demojize',\n",
       " 'distinct_emoji_list',\n",
       " 'emoji_count',\n",
       " 'emoji_list',\n",
       " 'emojize',\n",
       " 'get_aliases_unicode_dict',\n",
       " 'get_emoji_unicode_dict',\n",
       " 'is_emoji',\n",
       " 'replace_emoji',\n",
       " 'unicode_codes',\n",
       " 'version']"
      ]
     },
     "execution_count": 2,
     "metadata": {},
     "output_type": "execute_result"
    }
   ],
   "source": [
    "# çalışma ortamına alalım\n",
    "import emoji as em # as ile alias verdik\n",
    "\n",
    "dir(em)"
   ]
  },
  {
   "cell_type": "code",
   "execution_count": 3,
   "id": "46dc84b7-5741-48a0-bd00-125cd3508154",
   "metadata": {},
   "outputs": [
    {
     "name": "stdout",
     "output_type": "stream",
     "text": [
      "Help on function emojize in module emoji.core:\n",
      "\n",
      "emojize(string, delimiters=(':', ':'), variant=None, language='en', version=None, handle_version=None)\n",
      "    Replace emoji names in a string with Unicode codes.\n",
      "        >>> import emoji\n",
      "        >>> print(emoji.emojize(\"Python is fun :thumbsup:\", language='alias'))\n",
      "        Python is fun 👍\n",
      "        >>> print(emoji.emojize(\"Python is fun :thumbs_up:\"))\n",
      "        Python is fun 👍\n",
      "        >>> print(emoji.emojize(\"Python is fun {thumbs_up}\", delimiters = (\"{\", \"}\")))\n",
      "        Python is fun 👍\n",
      "        >>> print(emoji.emojize(\"Python is fun :red_heart:\", variant=\"text_type\"))\n",
      "        Python is fun ❤\n",
      "        >>> print(emoji.emojize(\"Python is fun :red_heart:\", variant=\"emoji_type\"))\n",
      "        Python is fun ❤️ # red heart, not black heart\n",
      "    \n",
      "    :param string: String contains emoji names.\n",
      "    :param delimiters: (optional) Use delimiters other than _DEFAULT_DELIMITER. Each delimiter\n",
      "        should contain at least one character that is not part of a-zA-Z0-9 and ``_-&.()!?#*+,``.\n",
      "        See ``emoji.core._EMOJI_NAME_PATTERN`` for the regular expression of unsafe characters.\n",
      "    :param variant: (optional) Choose variation selector between \"base\"(None), VS-15 (\"text_type\") and VS-16 (\"emoji_type\")\n",
      "    :param language: Choose language of emoji name: language code 'es', 'de', etc. or 'alias'\n",
      "        to use English aliases\n",
      "    :param version: (optional) Max version. If set to an Emoji Version,\n",
      "        all emoji above this version will be ignored.\n",
      "    :param handle_version: (optional) Replace the emoji above ``version``\n",
      "        instead of ignoring it. handle_version can be either a string or a\n",
      "        callable; If it is a callable, it's passed the Unicode emoji and the\n",
      "        data dict from emoji.EMOJI_DATA and must return a replacement string\n",
      "        to be used::\n",
      "    \n",
      "            handle_version(u'\\U0001F6EB', {\n",
      "                'en' : ':airplane_departure:',\n",
      "                'status' : fully_qualified,\n",
      "                'E' : 1,\n",
      "                'alias' : [u':flight_departure:'],\n",
      "                'de': u':abflug:',\n",
      "                'es': u':avión_despegando:',\n",
      "                ...\n",
      "            })\n",
      "    \n",
      "    :raises ValueError: if ``variant`` is neither None, 'text_type' or 'emoji_type'\n",
      "\n"
     ]
    }
   ],
   "source": [
    "help(em.emojize)"
   ]
  },
  {
   "cell_type": "code",
   "execution_count": 4,
   "id": "47e86985-bdc0-41f1-8681-5e995368cf21",
   "metadata": {},
   "outputs": [
    {
     "name": "stdout",
     "output_type": "stream",
     "text": [
      "Python is fun ❤️\n"
     ]
    }
   ],
   "source": [
    "print(em.emojize(\"Python is fun :red_heart:\", variant=\"emoji_type\"))"
   ]
  },
  {
   "cell_type": "code",
   "execution_count": null,
   "id": "c42b31c6-6cd9-436a-a1da-f7ae7035d107",
   "metadata": {},
   "outputs": [],
   "source": []
  }
 ],
 "metadata": {
  "kernelspec": {
   "display_name": "Python 3 (ipykernel)",
   "language": "python",
   "name": "python3"
  },
  "language_info": {
   "codemirror_mode": {
    "name": "ipython",
    "version": 3
   },
   "file_extension": ".py",
   "mimetype": "text/x-python",
   "name": "python",
   "nbconvert_exporter": "python",
   "pygments_lexer": "ipython3",
   "version": "3.10.8"
  }
 },
 "nbformat": 4,
 "nbformat_minor": 5
}
