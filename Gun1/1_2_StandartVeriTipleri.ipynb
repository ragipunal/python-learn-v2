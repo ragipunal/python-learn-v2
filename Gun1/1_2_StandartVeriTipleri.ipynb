{
 "cells": [
  {
   "cell_type": "markdown",
   "id": "a969039f-fc54-42c8-8b71-a2429148e6a8",
   "metadata": {},
   "source": [
    "## Veri Tipleri\n",
    "\n",
    "![StandartVeriTipleri](PythonVeriTipleri.png)"
   ]
  },
  {
   "cell_type": "markdown",
   "id": "23113228-c571-48de-8163-622f75621193",
   "metadata": {},
   "source": [
    "### Bir nesnenin tip kontrolü"
   ]
  },
  {
   "cell_type": "code",
   "execution_count": 1,
   "id": "a2ed8323-e89a-400b-96f4-bc1b6e9b2824",
   "metadata": {},
   "outputs": [
    {
     "data": {
      "text/plain": [
       "NoneType"
      ]
     },
     "execution_count": 1,
     "metadata": {},
     "output_type": "execute_result"
    }
   ],
   "source": [
    "# type fonksyionun nesnenin tipini bize belirtiyor.\n",
    "type(None) # yokluğun karşılığı"
   ]
  },
  {
   "cell_type": "code",
   "execution_count": 2,
   "id": "945220de-f151-4159-8c79-87e158951994",
   "metadata": {},
   "outputs": [
    {
     "name": "stdout",
     "output_type": "stream",
     "text": [
      "12\n"
     ]
    }
   ],
   "source": [
    "degisken = 12 # değişken tanımlayıp değer atadık. Python Dynamic Type özelliğine sahiptir. \n",
    "\n",
    "print(degisken)"
   ]
  },
  {
   "cell_type": "code",
   "execution_count": 3,
   "id": "164a4fbf-6521-4af1-9bff-449c6ffc83f7",
   "metadata": {},
   "outputs": [
    {
     "data": {
      "text/plain": [
       "int"
      ]
     },
     "execution_count": 3,
     "metadata": {},
     "output_type": "execute_result"
    }
   ],
   "source": [
    "type(degisken)"
   ]
  },
  {
   "cell_type": "code",
   "execution_count": 4,
   "id": "f7d45298-2545-4e0f-a28b-7df4164a78ca",
   "metadata": {},
   "outputs": [
    {
     "data": {
      "text/plain": [
       "True"
      ]
     },
     "execution_count": 4,
     "metadata": {},
     "output_type": "execute_result"
    }
   ],
   "source": [
    "isinstance(degisken, int) # tipi int midir?"
   ]
  },
  {
   "cell_type": "code",
   "execution_count": 5,
   "id": "bb046997-af34-42c0-9a49-455a896a4b6a",
   "metadata": {},
   "outputs": [
    {
     "data": {
      "text/plain": [
       "False"
      ]
     },
     "execution_count": 5,
     "metadata": {},
     "output_type": "execute_result"
    }
   ],
   "source": [
    "isinstance(degisken, (float, complex)) # tuple ile birden fazla veri tipini kontrol edebiliriz. float veya complex mi?"
   ]
  },
  {
   "cell_type": "markdown",
   "id": "1f7cd0d6-9c01-4949-bc38-3510bf9f1fd7",
   "metadata": {},
   "source": [
    "### Numeric"
   ]
  },
  {
   "cell_type": "code",
   "execution_count": 7,
   "id": "a548da1f-0d32-4166-b9ca-ef3aff4c41bf",
   "metadata": {},
   "outputs": [
    {
     "name": "stdout",
     "output_type": "stream",
     "text": [
      "<class 'int'>\n",
      "<class 'float'>\n",
      "<class 'complex'>\n"
     ]
    }
   ],
   "source": [
    "i = 1 # int(1)\n",
    "f = 1.23 # float(1.23)\n",
    "c = 12+3j # complex(12,3)\n",
    "\n",
    "print(type(i), type(f), type(c), sep=\"\\n\") # virgülle yazdıklarımız alt alt  yazsın \\n"
   ]
  },
  {
   "cell_type": "markdown",
   "id": "531e8ce6-aceb-4767-8ab3-6f17057ec69f",
   "metadata": {},
   "source": [
    "### Boolen"
   ]
  },
  {
   "cell_type": "code",
   "execution_count": 8,
   "id": "c02cc424-d299-4259-ab87-7c1909406cf6",
   "metadata": {},
   "outputs": [
    {
     "data": {
      "text/plain": [
       "bool"
      ]
     },
     "execution_count": 8,
     "metadata": {},
     "output_type": "execute_result"
    }
   ],
   "source": [
    "# True veya False dur.\n",
    "\n",
    "y = True # bool(True)\n",
    "f = False # bool(False)\n",
    "\n",
    "type(f)"
   ]
  },
  {
   "cell_type": "markdown",
   "id": "ce6ff3e7-cc78-4f2c-8695-3e2c67925187",
   "metadata": {},
   "source": [
    "### Bool tipine özel durumlar\n",
    "\n",
    "- 0, None veya yokluk bildiren ifadeler (boş, lit, type, str vs.) False olarak değelendirilir.\n",
    "- Diğerleri True olarak değerlendirilir."
   ]
  },
  {
   "cell_type": "code",
   "execution_count": 9,
   "id": "ea7c0d82-a873-479c-b614-c1389ad5f979",
   "metadata": {},
   "outputs": [
    {
     "data": {
      "text/plain": [
       "True"
      ]
     },
     "execution_count": 9,
     "metadata": {},
     "output_type": "execute_result"
    }
   ],
   "source": [
    "True\n",
    "bool(True)\n",
    "\n",
    "bool(1)\n",
    "\n",
    "bool(-1)\n",
    "\n",
    "bool(10000)"
   ]
  },
  {
   "cell_type": "code",
   "execution_count": 10,
   "id": "0be58976-334a-4570-b6c8-d365a035eeb7",
   "metadata": {},
   "outputs": [
    {
     "data": {
      "text/plain": [
       "False"
      ]
     },
     "execution_count": 10,
     "metadata": {},
     "output_type": "execute_result"
    }
   ],
   "source": [
    "False\n",
    "bool(False)\n",
    "\n",
    "bool(0)\n",
    "bool(None)\n",
    "bool(\"\")\n",
    "bool([])"
   ]
  },
  {
   "cell_type": "markdown",
   "id": "1e9833f4-22ab-40cf-b6a5-4d610066db6f",
   "metadata": {},
   "source": [
    "### Str"
   ]
  },
  {
   "cell_type": "code",
   "execution_count": 11,
   "id": "298f4c7d-cc54-4b1e-9861-8e0b3ec4fea7",
   "metadata": {},
   "outputs": [
    {
     "name": "stdout",
     "output_type": "stream",
     "text": [
      "merhaba dünyalı\n",
      "nasılsınız?\n",
      "\n",
      "Select\n",
      "    Kolon1,\n",
      "    Kolon2\n",
      "From TabloAdi\n",
      "\n"
     ]
    }
   ],
   "source": [
    "# tek veya çift tırnak ile tek satırlık metinler tanımlanabilir.\n",
    "# çok satırlı metinler için 3'er tırnak kullanmalıyız.\n",
    "\n",
    "# tek satırlık\n",
    "mesaj = \"merhaba dünyalı\"\n",
    "soru = 'nasılsınız?'\n",
    "\n",
    "# çok satırlı\n",
    "sorgu = \"\"\"\n",
    "Select\n",
    "    Kolon1,\n",
    "    Kolon2\n",
    "From TabloAdi\n",
    "\"\"\"\n",
    "\n",
    "print(mesaj)\n",
    "print(soru)\n",
    "print(sorgu)"
   ]
  },
  {
   "cell_type": "markdown",
   "id": "e741f405-644b-49f8-be88-372bf5afa6a0",
   "metadata": {},
   "source": [
    "### Tuple\n",
    "\n",
    "- **immutable** yani elemanları güncellenemez.\n",
    "- farklı tipteki verileri tutabilir.\n",
    "- virgülle ve/ya () ile tanımlanabilir."
   ]
  },
  {
   "cell_type": "code",
   "execution_count": 12,
   "id": "294d5df9-23f8-4b80-87e7-552e2be9d233",
   "metadata": {},
   "outputs": [
    {
     "name": "stdout",
     "output_type": "stream",
     "text": [
      "<class 'tuple'>\n",
      "(1, 2, 3, 'Metin', False, None)\n"
     ]
    }
   ],
   "source": [
    "t = (1,2,3,\"Metin\", False, None)\n",
    "t = 1,2,3,\"Metin\", False, None\n",
    "\n",
    "print(type(t))\n",
    "print(t)"
   ]
  },
  {
   "cell_type": "markdown",
   "id": "adcbcec2-2b1e-46e9-958c-47c2caa0a5ec",
   "metadata": {},
   "source": [
    "### List\n",
    "\n",
    "- **mutable** yani elemanları güncellenebilir\n",
    "- farklı tipten veriler tutabilir.\n",
    "- [] ile tanımlanır."
   ]
  },
  {
   "cell_type": "code",
   "execution_count": 13,
   "id": "12e3d870-e106-43de-83b1-390e8a048a0c",
   "metadata": {},
   "outputs": [
    {
     "name": "stdout",
     "output_type": "stream",
     "text": [
      "<class 'list'>\n",
      "[1, 2, 3, 'Metin', False, None]\n"
     ]
    }
   ],
   "source": [
    "l = [1,2,3, \"Metin\", False, None]\n",
    "\n",
    "print(type(l))\n",
    "\n",
    "print(l)"
   ]
  },
  {
   "cell_type": "markdown",
   "id": "d0a60a85-e7e9-425e-a0e3-55d9516788b1",
   "metadata": {},
   "source": [
    "### Sequence (str, tuple, list) elemanlarına erişebiliriz.\n",
    "\n",
    "- index yönetimi `nesne[index]` şeklinde elemanlarına ulaşılabilir. indexler 0 dan başlar.\n",
    "- slicer yöntemi `nesne[start:stop:step]` şeklinde aralık tanımlayabilir.\n",
    "  - start belirtilmez ise en baştan başlar\n",
    "  - end belirtilmez ise en son\n",
    "  - step belirtilmez ise 1'er getirir.\n",
    "  - negatif sayılar kullanılabilir, tersten anlamına gelir."
   ]
  },
  {
   "cell_type": "code",
   "execution_count": 19,
   "id": "1ce10aac-fcef-430e-bc5f-b968c15d942f",
   "metadata": {},
   "outputs": [
    {
     "data": {
      "text/plain": [
       "'abahrem'"
      ]
     },
     "execution_count": 19,
     "metadata": {},
     "output_type": "execute_result"
    }
   ],
   "source": [
    "metin = \"merhaba\" # str\n",
    "\n",
    "metin[0] # ilk karakter\n",
    "\n",
    "#slicer\n",
    "metin[1:4] # 1. ile 4. indexin arasını getirir.\n",
    "metin[1:6:2] # 1-6 arası 2'şer atla\n",
    "metin[1::3] # 1 .den başla sona kadar 3'er atlayarak getir.\n",
    "metin[::] #baştan sona kadar 1 er getir.\n",
    "metin[::-1] #tersten getirir."
   ]
  },
  {
   "cell_type": "markdown",
   "id": "413d3a6b-6b18-4044-88f3-a78a2027cf23",
   "metadata": {},
   "source": [
    "### Set\n",
    "\n",
    "- Sıralı değildir. Matematikteki kümelere benzer şekilde benzersiz eleman tutar.\n",
    "- elemanlarının immutable olması gerekir..\n",
    "- kendisi mutable tiptir.\n",
    "- {} ile tanımlanır."
   ]
  },
  {
   "cell_type": "code",
   "execution_count": 21,
   "id": "62ca4812-b025-4481-9c65-77659625d0e9",
   "metadata": {},
   "outputs": [
    {
     "name": "stdout",
     "output_type": "stream",
     "text": [
      "{0, 1, 2, 3, 'Metin'}\n"
     ]
    }
   ],
   "source": [
    "s = {0,1,2,3,\"Metin\",False, True, \"Metin\", 0} # 0, None, veya yokluk [] False olarak değerlendriliyor.\n",
    "\n",
    "print(s)"
   ]
  },
  {
   "cell_type": "code",
   "execution_count": 22,
   "id": "165a5945-0d52-4cd2-89ce-bdcaf51c79ea",
   "metadata": {},
   "outputs": [
    {
     "name": "stdout",
     "output_type": "stream",
     "text": [
      "{'A', 'L', 'B', 'I', 'K'}\n"
     ]
    }
   ],
   "source": [
    "m = {\"K\", \"A\", \"L\", \"A\",\"B\", \"A\", \"L\", \"I\", \"K\"}\n",
    "\n",
    "print(m)"
   ]
  },
  {
   "cell_type": "markdown",
   "id": "282278ba-f817-48c7-a5c1-9d413d70d60a",
   "metadata": {},
   "source": [
    "### Dict\n",
    "\n",
    "- Key:Value şeklinde tanımlanır.\n",
    "- Elemanlarına key ile erişebiliriz.\n",
    "- Keyler **immutable**, kendisi **mutable** dır."
   ]
  },
  {
   "cell_type": "code",
   "execution_count": 25,
   "id": "d0f55d7c-49ad-4d56-8cc3-4a2905e69b57",
   "metadata": {},
   "outputs": [
    {
     "data": {
      "text/plain": [
       "{'Ad': 'Ragıp',\n",
       " 'Soyad': 'Ünal',\n",
       " 'Yas': 35,\n",
       " 'AktifMi': True,\n",
       " 146873: 'Sicil No',\n",
       " 'Ehliyetler': ['A', 'B', 'F'],\n",
       " (2000, 'Maaş'): 4548.72}"
      ]
     },
     "execution_count": 25,
     "metadata": {},
     "output_type": "execute_result"
    }
   ],
   "source": [
    "dict_kv = { \n",
    "    \"Ad\":\"Ragıp\",\n",
    "    \"Soyad\":\"Ünal\",\n",
    "    \"Yas\": 35,\n",
    "    \"AktifMi\": True,\n",
    "    146873: \"Sicil No\",\n",
    "    \"Ehliyetler\": [\"A\", \"B\", \"F\"],\n",
    "    (2000, \"Maaş\"): 4548.72\n",
    "    # [2000, \"Maaş\"]: 4548.72\n",
    "}\n",
    "\n",
    "dict_kv"
   ]
  },
  {
   "cell_type": "markdown",
   "id": "56187ade-57d7-4e91-ba92-90113dc84fd6",
   "metadata": {},
   "source": [
    "dict_kv[\"Soyad\"]"
   ]
  },
  {
   "cell_type": "code",
   "execution_count": 27,
   "id": "d040fbf5-33e3-43f9-8ca4-01eb066048b2",
   "metadata": {},
   "outputs": [
    {
     "data": {
      "text/plain": [
       "['A', 'B', 'F']"
      ]
     },
     "execution_count": 27,
     "metadata": {},
     "output_type": "execute_result"
    }
   ],
   "source": [
    "dict_kv[\"Ehliyetler\"]"
   ]
  },
  {
   "cell_type": "code",
   "execution_count": 28,
   "id": "bf54c026-b4f1-476e-82c8-4ceab292869d",
   "metadata": {},
   "outputs": [
    {
     "data": {
      "text/plain": [
       "'A'"
      ]
     },
     "execution_count": 28,
     "metadata": {},
     "output_type": "execute_result"
    }
   ],
   "source": [
    "dict_kv[\"Ehliyetler\"][0]"
   ]
  },
  {
   "cell_type": "code",
   "execution_count": 29,
   "id": "8b44d7ee-246b-4f58-ac08-087816374ee3",
   "metadata": {},
   "outputs": [
    {
     "data": {
      "text/plain": [
       "4548.72"
      ]
     },
     "execution_count": 29,
     "metadata": {},
     "output_type": "execute_result"
    }
   ],
   "source": [
    "dict_kv[(2000, \"Maaş\")]"
   ]
  },
  {
   "cell_type": "code",
   "execution_count": 30,
   "id": "7c6f1990-ba56-49d7-b7e0-193a852112bb",
   "metadata": {},
   "outputs": [
    {
     "ename": "KeyError",
     "evalue": "'olmayankey'",
     "output_type": "error",
     "traceback": [
      "\u001b[0;31m---------------------------------------------------------------------------\u001b[0m",
      "\u001b[0;31mKeyError\u001b[0m                                  Traceback (most recent call last)",
      "Cell \u001b[0;32mIn [30], line 1\u001b[0m\n\u001b[0;32m----> 1\u001b[0m \u001b[43mdict_kv\u001b[49m\u001b[43m[\u001b[49m\u001b[38;5;124;43m\"\u001b[39;49m\u001b[38;5;124;43molmayankey\u001b[39;49m\u001b[38;5;124;43m\"\u001b[39;49m\u001b[43m]\u001b[49m\n",
      "\u001b[0;31mKeyError\u001b[0m: 'olmayankey'"
     ]
    }
   ],
   "source": [
    "dict_kv[\"olmayankey\"]"
   ]
  },
  {
   "cell_type": "code",
   "execution_count": 31,
   "id": "f29c0f9c-866f-4176-a0a6-412edf782ce8",
   "metadata": {},
   "outputs": [],
   "source": [
    "dict_kv.get(\"olmayankey\")"
   ]
  },
  {
   "cell_type": "code",
   "execution_count": 33,
   "id": "9c555ba5-b25c-45c4-848d-f6e454c8feae",
   "metadata": {},
   "outputs": [
    {
     "data": {
      "text/plain": [
       "NoneType"
      ]
     },
     "execution_count": 33,
     "metadata": {},
     "output_type": "execute_result"
    }
   ],
   "source": [
    "type(dict_kv.get(\"olmayankey\")) # Key yoksa None döner."
   ]
  },
  {
   "cell_type": "markdown",
   "id": "7cd82f42-51f4-4eb1-a7a3-5dce70b25e96",
   "metadata": {},
   "source": [
    "### Bir Nesneyi Silmek."
   ]
  },
  {
   "cell_type": "code",
   "execution_count": 35,
   "id": "ebe4472b-e9bb-446f-88dc-2951fadab09b",
   "metadata": {},
   "outputs": [],
   "source": [
    "del dict_kv"
   ]
  },
  {
   "cell_type": "code",
   "execution_count": 36,
   "id": "9d2ab0b5-8321-487a-8020-fb3c7b8f7c12",
   "metadata": {},
   "outputs": [
    {
     "ename": "NameError",
     "evalue": "name 'dict_kv' is not defined",
     "output_type": "error",
     "traceback": [
      "\u001b[0;31m---------------------------------------------------------------------------\u001b[0m",
      "\u001b[0;31mNameError\u001b[0m                                 Traceback (most recent call last)",
      "Cell \u001b[0;32mIn [36], line 1\u001b[0m\n\u001b[0;32m----> 1\u001b[0m \u001b[43mdict_kv\u001b[49m\n",
      "\u001b[0;31mNameError\u001b[0m: name 'dict_kv' is not defined"
     ]
    }
   ],
   "source": [
    "dict_kv"
   ]
  },
  {
   "cell_type": "code",
   "execution_count": null,
   "id": "2aa51b8d-632a-4cb6-b13b-afceb2c20a63",
   "metadata": {},
   "outputs": [],
   "source": []
  }
 ],
 "metadata": {
  "kernelspec": {
   "display_name": "Python 3 (ipykernel)",
   "language": "python",
   "name": "python3"
  },
  "language_info": {
   "codemirror_mode": {
    "name": "ipython",
    "version": 3
   },
   "file_extension": ".py",
   "mimetype": "text/x-python",
   "name": "python",
   "nbconvert_exporter": "python",
   "pygments_lexer": "ipython3",
   "version": "3.10.8"
  }
 },
 "nbformat": 4,
 "nbformat_minor": 5
}
